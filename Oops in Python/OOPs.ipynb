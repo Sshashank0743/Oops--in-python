{
 "cells": [
  {
   "cell_type": "markdown",
   "id": "7bca4c9b-c3e9-4e61-80da-b3d3dbb2b0b6",
   "metadata": {},
   "source": [
    "## A class is skeleton or blueprint which have few properties & it can be used to create an instances.\n",
    "\n",
    "## An object is an instance of a class which is having all peoperties and functions as defined in the class."
   ]
  },
  {
   "cell_type": "markdown",
   "id": "ddd7129c-225f-419f-bcfb-1613cc17523d",
   "metadata": {},
   "source": [
    "### in the below example list1 and tuple1 are objects of class List and Tuple"
   ]
  },
  {
   "cell_type": "code",
   "execution_count": 1,
   "id": "b67aa471-cbda-445d-b966-4f42ddb9c8b9",
   "metadata": {},
   "outputs": [
    {
     "data": {
      "text/plain": [
       "['apple', 2, 3, 4]"
      ]
     },
     "execution_count": 1,
     "metadata": {},
     "output_type": "execute_result"
    }
   ],
   "source": [
    "list1 = [\"apple\", 2, 3, 4]\n",
    "list1"
   ]
  },
  {
   "cell_type": "code",
   "execution_count": 2,
   "id": "f0f69ef5-b0ee-4888-ad0c-05ef40cb1971",
   "metadata": {},
   "outputs": [
    {
     "data": {
      "text/plain": [
       "['apple', 2, 3, 4, 6]"
      ]
     },
     "execution_count": 2,
     "metadata": {},
     "output_type": "execute_result"
    }
   ],
   "source": [
    "list1.append(6)\n",
    "list1"
   ]
  },
  {
   "cell_type": "code",
   "execution_count": 4,
   "id": "c41f77d7-13ba-4950-a334-182fe5314c6b",
   "metadata": {},
   "outputs": [
    {
     "data": {
      "text/plain": [
       "(1, 5, 5, 6, 7)"
      ]
     },
     "execution_count": 4,
     "metadata": {},
     "output_type": "execute_result"
    }
   ],
   "source": [
    "tuple1 = (1,5,5,6,7)\n",
    "tuple1"
   ]
  },
  {
   "cell_type": "code",
   "execution_count": 5,
   "id": "e0256cc8-9776-49b2-aa71-87c95a541a0d",
   "metadata": {},
   "outputs": [
    {
     "ename": "AttributeError",
     "evalue": "'tuple' object has no attribute 'append'",
     "output_type": "error",
     "traceback": [
      "\u001b[1;31m---------------------------------------------------------------------------\u001b[0m",
      "\u001b[1;31mAttributeError\u001b[0m                            Traceback (most recent call last)",
      "Cell \u001b[1;32mIn[5], line 1\u001b[0m\n\u001b[1;32m----> 1\u001b[0m tuple1\u001b[38;5;241m.\u001b[39mappend(\u001b[38;5;241m9\u001b[39m)\n\u001b[0;32m      2\u001b[0m tuple1\n",
      "\u001b[1;31mAttributeError\u001b[0m: 'tuple' object has no attribute 'append'"
     ]
    }
   ],
   "source": [
    "tuple1.append(9)\n",
    "tuple1"
   ]
  },
  {
   "cell_type": "code",
   "execution_count": 3,
   "id": "851946de-95f5-4b10-a831-96d82946b302",
   "metadata": {},
   "outputs": [
    {
     "data": {
      "text/plain": [
       "['__add__',\n",
       " '__class__',\n",
       " '__class_getitem__',\n",
       " '__contains__',\n",
       " '__delattr__',\n",
       " '__dir__',\n",
       " '__doc__',\n",
       " '__eq__',\n",
       " '__format__',\n",
       " '__ge__',\n",
       " '__getattribute__',\n",
       " '__getitem__',\n",
       " '__getnewargs__',\n",
       " '__getstate__',\n",
       " '__gt__',\n",
       " '__hash__',\n",
       " '__init__',\n",
       " '__init_subclass__',\n",
       " '__iter__',\n",
       " '__le__',\n",
       " '__len__',\n",
       " '__lt__',\n",
       " '__mul__',\n",
       " '__ne__',\n",
       " '__new__',\n",
       " '__reduce__',\n",
       " '__reduce_ex__',\n",
       " '__repr__',\n",
       " '__rmul__',\n",
       " '__setattr__',\n",
       " '__sizeof__',\n",
       " '__str__',\n",
       " '__subclasshook__',\n",
       " 'count',\n",
       " 'index']"
      ]
     },
     "execution_count": 3,
     "metadata": {},
     "output_type": "execute_result"
    }
   ],
   "source": [
    "list(dir(tuple))"
   ]
  },
  {
   "cell_type": "code",
   "execution_count": null,
   "id": "04733a56-a21a-4a05-a0ad-b8e44384f183",
   "metadata": {},
   "outputs": [],
   "source": [
    "class july:\n",
    "    def Rain():\n",
    "        "
   ]
  },
  {
   "cell_type": "code",
   "execution_count": 1,
   "id": "43d283d5-0a3b-42ce-b747-d4816352d3ae",
   "metadata": {},
   "outputs": [
    {
     "name": "stdout",
     "output_type": "stream",
     "text": [
      "<function my_length_func at 0x0000019015EBB9C0>\n"
     ]
    }
   ],
   "source": [
    "def my_length_func(sent_object):\n",
    "    ans = 0\n",
    "    for i in sent_object:\n",
    "        ans += 1\n",
    "    return ans\n",
    "\n",
    "print(my_length_func)"
   ]
  },
  {
   "cell_type": "markdown",
   "id": "182636c4-2ee2-4d4d-802e-dccd77c7121b",
   "metadata": {},
   "source": [
    "# Function vs method"
   ]
  },
  {
   "cell_type": "markdown",
   "id": "b9d9b64e-093d-417c-8189-0b85810996d0",
   "metadata": {},
   "source": [
    "* Function we call on object\n",
    "\n",
    "* Method requires an object to call"
   ]
  },
  {
   "cell_type": "code",
   "execution_count": 2,
   "id": "363942e1-8264-4ab2-89de-3bef67693663",
   "metadata": {},
   "outputs": [
    {
     "data": {
      "text/plain": [
       "['__abs__',\n",
       " '__add__',\n",
       " '__and__',\n",
       " '__bool__',\n",
       " '__ceil__',\n",
       " '__class__',\n",
       " '__delattr__',\n",
       " '__dir__',\n",
       " '__divmod__',\n",
       " '__doc__',\n",
       " '__eq__',\n",
       " '__float__',\n",
       " '__floor__',\n",
       " '__floordiv__',\n",
       " '__format__',\n",
       " '__ge__',\n",
       " '__getattribute__',\n",
       " '__getnewargs__',\n",
       " '__getstate__',\n",
       " '__gt__',\n",
       " '__hash__',\n",
       " '__index__',\n",
       " '__init__',\n",
       " '__init_subclass__',\n",
       " '__int__',\n",
       " '__invert__',\n",
       " '__le__',\n",
       " '__lshift__',\n",
       " '__lt__',\n",
       " '__mod__',\n",
       " '__mul__',\n",
       " '__ne__',\n",
       " '__neg__',\n",
       " '__new__',\n",
       " '__or__',\n",
       " '__pos__',\n",
       " '__pow__',\n",
       " '__radd__',\n",
       " '__rand__',\n",
       " '__rdivmod__',\n",
       " '__reduce__',\n",
       " '__reduce_ex__',\n",
       " '__repr__',\n",
       " '__rfloordiv__',\n",
       " '__rlshift__',\n",
       " '__rmod__',\n",
       " '__rmul__',\n",
       " '__ror__',\n",
       " '__round__',\n",
       " '__rpow__',\n",
       " '__rrshift__',\n",
       " '__rshift__',\n",
       " '__rsub__',\n",
       " '__rtruediv__',\n",
       " '__rxor__',\n",
       " '__setattr__',\n",
       " '__sizeof__',\n",
       " '__str__',\n",
       " '__sub__',\n",
       " '__subclasshook__',\n",
       " '__truediv__',\n",
       " '__trunc__',\n",
       " '__xor__',\n",
       " 'as_integer_ratio',\n",
       " 'bit_count',\n",
       " 'bit_length',\n",
       " 'conjugate',\n",
       " 'denominator',\n",
       " 'from_bytes',\n",
       " 'imag',\n",
       " 'is_integer',\n",
       " 'numerator',\n",
       " 'real',\n",
       " 'to_bytes']"
      ]
     },
     "execution_count": 2,
     "metadata": {},
     "output_type": "execute_result"
    }
   ],
   "source": [
    "list(dir(int))"
   ]
  },
  {
   "cell_type": "code",
   "execution_count": 2,
   "id": "abec1e42-be98-4e66-bef5-eb65ed3ee1e5",
   "metadata": {},
   "outputs": [
    {
     "data": {
      "text/plain": [
       "['__add__',\n",
       " '__class__',\n",
       " '__class_getitem__',\n",
       " '__contains__',\n",
       " '__delattr__',\n",
       " '__delitem__',\n",
       " '__dir__',\n",
       " '__doc__',\n",
       " '__eq__',\n",
       " '__format__',\n",
       " '__ge__',\n",
       " '__getattribute__',\n",
       " '__getitem__',\n",
       " '__getstate__',\n",
       " '__gt__',\n",
       " '__hash__',\n",
       " '__iadd__',\n",
       " '__imul__',\n",
       " '__init__',\n",
       " '__init_subclass__',\n",
       " '__iter__',\n",
       " '__le__',\n",
       " '__len__',\n",
       " '__lt__',\n",
       " '__mul__',\n",
       " '__ne__',\n",
       " '__new__',\n",
       " '__reduce__',\n",
       " '__reduce_ex__',\n",
       " '__repr__',\n",
       " '__reversed__',\n",
       " '__rmul__',\n",
       " '__setattr__',\n",
       " '__setitem__',\n",
       " '__sizeof__',\n",
       " '__str__',\n",
       " '__subclasshook__',\n",
       " 'append',\n",
       " 'clear',\n",
       " 'copy',\n",
       " 'count',\n",
       " 'extend',\n",
       " 'index',\n",
       " 'insert',\n",
       " 'pop',\n",
       " 'remove',\n",
       " 'reverse',\n",
       " 'sort']"
      ]
     },
     "execution_count": 2,
     "metadata": {},
     "output_type": "execute_result"
    }
   ],
   "source": [
    "list(dir(list))"
   ]
  },
  {
   "cell_type": "code",
   "execution_count": 34,
   "id": "172dad27-e6b8-41a5-bc47-dba810ca9fd0",
   "metadata": {},
   "outputs": [],
   "source": [
    "class College:\n",
    "    def __init__(arg1):\n",
    "        print(\"I am just entering in college\")\n",
    "    def Study():\n",
    "        print(\"i am studying now\")\n",
    "    def breaking():\n",
    "        print(\"I am on luch break\")\n",
    "    def leave():\n",
    "        print(\"I am on leave\")"
   ]
  },
  {
   "cell_type": "code",
   "execution_count": 35,
   "id": "015c8e04-e23f-4ac5-a6b9-f59c8ebd8e74",
   "metadata": {},
   "outputs": [
    {
     "name": "stdout",
     "output_type": "stream",
     "text": [
      "I am just entering in college\n",
      "<class '__main__.College'>\n",
      "1718394658096\n"
     ]
    }
   ],
   "source": [
    "a1 = College()\n",
    "print(type(a1))\n",
    "print(id(a1))"
   ]
  },
  {
   "cell_type": "code",
   "execution_count": 32,
   "id": "1ef05a41-662a-4bca-afeb-6a95210fde69",
   "metadata": {},
   "outputs": [
    {
     "data": {
      "text/plain": [
       "1718394657424"
      ]
     },
     "execution_count": 32,
     "metadata": {},
     "output_type": "execute_result"
    }
   ],
   "source": [
    "id(a1)"
   ]
  },
  {
   "cell_type": "code",
   "execution_count": 37,
   "id": "db395de1-34b5-40b7-af19-b906c383ae57",
   "metadata": {},
   "outputs": [
    {
     "ename": "TypeError",
     "evalue": "College.Study() takes 0 positional arguments but 1 was given",
     "output_type": "error",
     "traceback": [
      "\u001b[1;31m---------------------------------------------------------------------------\u001b[0m",
      "\u001b[1;31mTypeError\u001b[0m                                 Traceback (most recent call last)",
      "Cell \u001b[1;32mIn[37], line 1\u001b[0m\n\u001b[1;32m----> 1\u001b[0m a1\u001b[38;5;241m.\u001b[39mStudy()\n",
      "\u001b[1;31mTypeError\u001b[0m: College.Study() takes 0 positional arguments but 1 was given"
     ]
    }
   ],
   "source": [
    "a1.Study()"
   ]
  },
  {
   "cell_type": "markdown",
   "id": "753aab33-8830-481b-ab71-5715c1e25fa5",
   "metadata": {},
   "source": [
    "## If we define function with self argument then it will easiy give us an output"
   ]
  },
  {
   "cell_type": "code",
   "execution_count": 48,
   "id": "f67c4e61-cb06-4018-a178-b74f21757a13",
   "metadata": {},
   "outputs": [],
   "source": [
    "class College:\n",
    "    def __init__(self, college_name, college_year):\n",
    "        self.name = college_name\n",
    "        self.year = college_year\n",
    "        print(\"I am just entering in college\")\n",
    "    def Study(self):\n",
    "        print(\"i am studying now\")\n",
    "    def breaking(self):\n",
    "        print(\"I am on luch break\")\n",
    "    def leave(self):\n",
    "        print(\"I am on leave\")"
   ]
  },
  {
   "cell_type": "code",
   "execution_count": 51,
   "id": "919a2da0-4d02-48c3-8dcf-dbca63687ebf",
   "metadata": {},
   "outputs": [
    {
     "name": "stdout",
     "output_type": "stream",
     "text": [
      "I am just entering in college\n"
     ]
    }
   ],
   "source": [
    "name = \"DTU\"\n",
    "year = 2010\n",
    "\n",
    "a2 = College(name, year)"
   ]
  },
  {
   "cell_type": "code",
   "execution_count": 52,
   "id": "d045120b-b84a-47ac-a06f-1351db5105c8",
   "metadata": {},
   "outputs": [
    {
     "data": {
      "text/plain": [
       "'DTU'"
      ]
     },
     "execution_count": 52,
     "metadata": {},
     "output_type": "execute_result"
    }
   ],
   "source": [
    "a2.name"
   ]
  },
  {
   "cell_type": "code",
   "execution_count": 53,
   "id": "c8897e51-e090-4bec-80c1-33e26c7e12b6",
   "metadata": {},
   "outputs": [
    {
     "data": {
      "text/plain": [
       "2010"
      ]
     },
     "execution_count": 53,
     "metadata": {},
     "output_type": "execute_result"
    }
   ],
   "source": [
    "a2.year"
   ]
  },
  {
   "cell_type": "code",
   "execution_count": 136,
   "id": "7a975a49-da32-4a0e-9075-5e0117c1c4ce",
   "metadata": {},
   "outputs": [],
   "source": [
    "class Rectangle():\n",
    "    def __init__(self, rect_width, rect_height):\n",
    "        self.width = rect_width\n",
    "        self.height = rect_height\n",
    "        print(\"The rectangle is like a cardboard\")\n",
    "    def calculate_area(self):\n",
    "        area = self.width * self.height\n",
    "        return area\n",
    "    def calculate_perimeter(self):\n",
    "        perimeter = 2*(self.width + self.height )\n",
    "        return perimeter\n",
    "    def is_square(self):\n",
    "        return self.width == self.height"
   ]
  },
  {
   "cell_type": "code",
   "execution_count": 137,
   "id": "77e9d361-f84a-45db-9830-3caf25fade3d",
   "metadata": {},
   "outputs": [
    {
     "name": "stdout",
     "output_type": "stream",
     "text": [
      "The rectangle is like a cardboard\n"
     ]
    }
   ],
   "source": [
    "width = 10\n",
    "height = 24\n",
    "\n",
    "r1 = Rectangle(width, height)"
   ]
  },
  {
   "cell_type": "code",
   "execution_count": 138,
   "id": "9a0b5ef4-5340-430f-af0f-3ea2714ce36b",
   "metadata": {},
   "outputs": [
    {
     "name": "stdout",
     "output_type": "stream",
     "text": [
      "The rectangle is like a cardboard\n",
      "The rectangle is like a cardboard\n"
     ]
    }
   ],
   "source": [
    "r1 = Rectangle(5,10)\n",
    "r2 = Rectangle(10,10)\n"
   ]
  },
  {
   "cell_type": "code",
   "execution_count": 139,
   "id": "51b98948-5ec0-4be6-a45a-0fcd92f44703",
   "metadata": {},
   "outputs": [
    {
     "data": {
      "text/plain": [
       "10"
      ]
     },
     "execution_count": 139,
     "metadata": {},
     "output_type": "execute_result"
    }
   ],
   "source": [
    "r1.height"
   ]
  },
  {
   "cell_type": "code",
   "execution_count": 140,
   "id": "4ccfa922-e7e7-431b-a471-c4421d7b465d",
   "metadata": {},
   "outputs": [
    {
     "data": {
      "text/plain": [
       "5"
      ]
     },
     "execution_count": 140,
     "metadata": {},
     "output_type": "execute_result"
    }
   ],
   "source": [
    "r1.width"
   ]
  },
  {
   "cell_type": "code",
   "execution_count": 141,
   "id": "93ef1d32-2c9f-4e92-b495-bfb5fa661d42",
   "metadata": {},
   "outputs": [
    {
     "data": {
      "text/plain": [
       "50"
      ]
     },
     "execution_count": 141,
     "metadata": {},
     "output_type": "execute_result"
    }
   ],
   "source": [
    "r1.calculate_area()"
   ]
  },
  {
   "cell_type": "code",
   "execution_count": 142,
   "id": "1e102fdd-87d8-4a92-8caf-611fe9f16d6c",
   "metadata": {},
   "outputs": [
    {
     "data": {
      "text/plain": [
       "30"
      ]
     },
     "execution_count": 142,
     "metadata": {},
     "output_type": "execute_result"
    }
   ],
   "source": [
    "r1.calculate_perimeter()"
   ]
  },
  {
   "cell_type": "code",
   "execution_count": 143,
   "id": "f198efd6-6a11-40e0-bc66-1e544464cda6",
   "metadata": {},
   "outputs": [
    {
     "data": {
      "text/plain": [
       "False"
      ]
     },
     "execution_count": 143,
     "metadata": {},
     "output_type": "execute_result"
    }
   ],
   "source": [
    "r1.is_square()"
   ]
  },
  {
   "cell_type": "code",
   "execution_count": 144,
   "id": "7e2bf28f-e911-46e4-b8e1-5ba7590d3d83",
   "metadata": {},
   "outputs": [
    {
     "data": {
      "text/plain": [
       "True"
      ]
     },
     "execution_count": 144,
     "metadata": {},
     "output_type": "execute_result"
    }
   ],
   "source": [
    "r2.is_square()"
   ]
  },
  {
   "cell_type": "raw",
   "id": "8020e58d-3b3f-4d5c-98e6-cec4df613cd3",
   "metadata": {},
   "source": [
    "__init__ this is magic function in any programming language."
   ]
  },
  {
   "cell_type": "markdown",
   "id": "d46ed8ce-584d-4a02-ac64-f29e9cdea30f",
   "metadata": {},
   "source": [
    "# Encapsulation"
   ]
  },
  {
   "cell_type": "code",
   "execution_count": 1,
   "id": "dcf77449-d017-47a5-ae9a-8055175b5e83",
   "metadata": {},
   "outputs": [],
   "source": [
    "class City():\n",
    "    def __init__(self, name, population, area):\n",
    "        self.name = name\n",
    "        self.population = population\n",
    "        self.area = area\n",
    "        print(\"City details regsitedred\")"
   ]
  },
  {
   "cell_type": "code",
   "execution_count": 2,
   "id": "d1dfc44e-f2b7-4c24-be0c-1e7c81c490e5",
   "metadata": {},
   "outputs": [
    {
     "name": "stdout",
     "output_type": "stream",
     "text": [
      "City details regsitedred\n"
     ]
    }
   ],
   "source": [
    "c1 = City(\"Noida\", 120000, 5000)"
   ]
  },
  {
   "cell_type": "code",
   "execution_count": 16,
   "id": "98629050-4943-45dc-9d1f-b475df90b715",
   "metadata": {},
   "outputs": [],
   "source": [
    "class Student():\n",
    "    def __init__(self, name, rollno, marks):\n",
    "        self.name = name\n",
    "        self.rollno = rollno\n",
    "        self.marks = marks\n",
    "        print('Student constructor called')\n",
    "\n",
    "    def is_distanction(self):\n",
    "        if self.marks > 75:\n",
    "            print(\"Students has a distanction\")\n",
    "        else:\n",
    "            print(\"Students does not have distanction\")"
   ]
  },
  {
   "cell_type": "code",
   "execution_count": 17,
   "id": "56b85fb4-2275-44a4-8ac9-40cdbe93e52f",
   "metadata": {},
   "outputs": [
    {
     "name": "stdout",
     "output_type": "stream",
     "text": [
      "Student constructor called\n"
     ]
    }
   ],
   "source": [
    "d1 = Student('shanky', 125, 20)"
   ]
  },
  {
   "cell_type": "code",
   "execution_count": 18,
   "id": "2dc4e5c5-46bf-484d-bf01-7860c2826508",
   "metadata": {},
   "outputs": [
    {
     "name": "stdout",
     "output_type": "stream",
     "text": [
      "shanky 20\n"
     ]
    }
   ],
   "source": [
    "print(d1.name, d1.marks)"
   ]
  },
  {
   "cell_type": "code",
   "execution_count": 19,
   "id": "1aed2093-f0e7-440c-8eb2-58484c7da04f",
   "metadata": {},
   "outputs": [
    {
     "name": "stdout",
     "output_type": "stream",
     "text": [
      "Students does not have distanction\n"
     ]
    }
   ],
   "source": [
    "d1.is_distanction()"
   ]
  },
  {
   "cell_type": "code",
   "execution_count": 20,
   "id": "385343d5-1e19-44bb-ae88-8b1462d256ff",
   "metadata": {},
   "outputs": [
    {
     "name": "stdout",
     "output_type": "stream",
     "text": [
      "Student constructor called\n"
     ]
    }
   ],
   "source": [
    "d2 = Student(\"ajay\", 65, 55)"
   ]
  },
  {
   "cell_type": "code",
   "execution_count": 22,
   "id": "6f815c53-c853-47b7-9eb9-163d6bbbab76",
   "metadata": {},
   "outputs": [
    {
     "name": "stdout",
     "output_type": "stream",
     "text": [
      "ajay 65 55\n"
     ]
    }
   ],
   "source": [
    "print(d2.name, d2.rollno, d2.marks)"
   ]
  },
  {
   "cell_type": "code",
   "execution_count": 23,
   "id": "bacdbca9-082b-4a2e-ad45-7f943b4584cf",
   "metadata": {},
   "outputs": [
    {
     "name": "stdout",
     "output_type": "stream",
     "text": [
      "Students does not have distanction\n"
     ]
    }
   ],
   "source": [
    "d2.is_distanction()"
   ]
  },
  {
   "attachments": {
    "15ae4ba7-7bd6-4c68-b210-e3022a5512ba.png": {
     "image/png": "[encoded data removed]"
    }
   },
   "cell_type": "markdown",
   "id": "0fdcdace-80e8-4834-a970-3093f7a845e2",
   "metadata": {},
   "source": [
    "## Access Modifier\n",
    "\n",
    "#### It is not a good practice to have a data properties of our object/instance to be open for access\n",
    "\n",
    "![image.png](attachment:15ae4ba7-7bd6-4c68-b210-e3022a5512ba.png)"
   ]
  },
  {
   "cell_type": "code",
   "execution_count": 24,
   "id": "a9c0534e-9a92-420a-8c3a-d5cf35995f8c",
   "metadata": {},
   "outputs": [],
   "source": [
    "class Student():\n",
    "    def __init__(self, name, rollno, marks):\n",
    "        self.name = name\n",
    "        self.rollno = rollno\n",
    "        self.marks = marks\n",
    "        print('Student constructor called')\n",
    "\n",
    "    def is_distanction(self):\n",
    "        if self.marks > 75:\n",
    "            print(\"Students has a distanction\")\n",
    "        else:\n",
    "            print(\"Students does not have distanction\")\n",
    "    "
   ]
  },
  {
   "cell_type": "code",
   "execution_count": null,
   "id": "a1ceef9b-3165-4e15-a2e7-0263c1ef17a6",
   "metadata": {},
   "outputs": [],
   "source": []
  }
 ],
 "metadata": {
  "kernelspec": {
   "display_name": "Python 3 (ipykernel)",
   "language": "python",
   "name": "python3"
  },
  "language_info": {
   "codemirror_mode": {
    "name": "ipython",
    "version": 3
   },
   "file_extension": ".py",
   "mimetype": "text/x-python",
   "name": "python",
   "nbconvert_exporter": "python",
   "pygments_lexer": "ipython3",
   "version": "3.12.7"
  }
 },
 "nbformat": 4,
 "nbformat_minor": 5
}
