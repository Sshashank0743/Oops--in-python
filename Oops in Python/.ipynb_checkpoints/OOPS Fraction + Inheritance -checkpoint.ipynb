{
 "cells": [
  {
   "cell_type": "markdown",
   "id": "d75fef44-d004-4725-b66b-43c256602c5d",
   "metadata": {},
   "source": [
    "## OOPS Practice Question"
   ]
  },
  {
   "cell_type": "code",
   "execution_count": null,
   "id": "b0fb3d0c-e34b-42d5-af55-e256c5ef0d11",
   "metadata": {},
   "outputs": [],
   "source": []
  },
  {
   "cell_type": "markdown",
   "id": "7bf3fe4a-a22f-4b4e-9239-df40c3327aa1",
   "metadata": {},
   "source": [
    "# Create a Python class named Fraction to represent fractions. The class should have the following features:\n",
    "\n",
    "1. A constructor method (__init__) that initializes the fraction's numerator and denominator.\n",
    "2. Methods to perform the following operations:\n",
    "- Addition (+)\n",
    "- Subtraction (-)\n",
    "- Multiplication (*)\n",
    "- Division (/)\n",
    "- Comparison (==, !=, <, <=, >, >=)\n",
    "3. A method to simplify the fraction"
   ]
  },
  {
   "cell_type": "code",
   "execution_count": 1,
   "id": "58bb4fb5-1e5c-4436-a57f-48d321639845",
   "metadata": {
    "tags": []
   },
   "outputs": [
    {
     "data": {
      "text/plain": [
       "0.6"
      ]
     },
     "execution_count": 1,
     "metadata": {},
     "output_type": "execute_result"
    }
   ],
   "source": [
    "3 /5 "
   ]
  },
  {
   "cell_type": "code",
   "execution_count": 4,
   "id": "5ee372b1-3fa0-48ff-a59d-f352be40cca4",
   "metadata": {
    "tags": []
   },
   "outputs": [
    {
     "data": {
      "text/plain": [
       "0.2"
      ]
     },
     "execution_count": 4,
     "metadata": {},
     "output_type": "execute_result"
    }
   ],
   "source": [
    "1 / 5"
   ]
  },
  {
   "cell_type": "code",
   "execution_count": 5,
   "id": "9943a307-c8ab-4877-89bc-2b43ca7f2635",
   "metadata": {
    "tags": []
   },
   "outputs": [
    {
     "data": {
      "text/plain": [
       "0.8"
      ]
     },
     "execution_count": 5,
     "metadata": {},
     "output_type": "execute_result"
    }
   ],
   "source": [
    "3/5 + 1/5"
   ]
  },
  {
   "cell_type": "code",
   "execution_count": 56,
   "id": "591bd5c9-3718-4a83-bfa4-30e5c050bc03",
   "metadata": {
    "tags": []
   },
   "outputs": [
    {
     "data": {
      "text/plain": [
       "['mayan', 'k']"
      ]
     },
     "execution_count": 56,
     "metadata": {},
     "output_type": "execute_result"
    }
   ],
   "source": [
    "\"mayan-k\".split('-')"
   ]
  },
  {
   "cell_type": "code",
   "execution_count": null,
   "id": "ecc5f833-1919-4b91-87aa-097556a5cc4b",
   "metadata": {},
   "outputs": [],
   "source": []
  },
  {
   "cell_type": "markdown",
   "id": "7292894f-4890-469e-b50b-69ac67a56059",
   "metadata": {
    "tags": []
   },
   "source": [
    "# Creating a Fraction Class from the very starting"
   ]
  },
  {
   "cell_type": "code",
   "execution_count": 33,
   "id": "b11523c0-7d21-45f1-87af-2c1cabf95863",
   "metadata": {
    "tags": []
   },
   "outputs": [],
   "source": [
    "class Fraction_main:\n",
    "    def __init__(self,num,den): # constructor \n",
    "        self.numerator = num  #integer\n",
    "        self.denominator = den # integer\n",
    "        print(\" A fraction is created\")\n",
    "        \n",
    "    def __str__(self):\n",
    "        return f\"{self.numerator}/{self.denominator}\"\n",
    "    \n",
    "        \n",
    "    def _gcd(self,num,den):\n",
    "        while den:\n",
    "            num,den = den,num%den\n",
    "        return num\n",
    "        \n",
    "    def _gcd_2(self,num,den):\n",
    "        gcd = 1 \n",
    "        for i in range(2,min(num,den) + 1):\n",
    "            if(num%i ==0 and den %i ==0):\n",
    "                gcd = i\n",
    "        return gcd\n",
    "        \n",
    "        \n",
    "    def simplify(self):\n",
    "        gcd  = self._gcd(self.numerator,self.denominator)\n",
    "        self.numerator = self.numerator // gcd\n",
    "        self.denominator = self.denominator // gcd\n",
    "        return self\n",
    "    \n",
    "    def __add__(self,other): # addition\n",
    "        \n",
    "        # add logic\n",
    "        new_num = self.numerator * other.denominator + other.numerator * self.denominator\n",
    "        new_den = self.denominator * other.denominator\n",
    "        return Fraction(new_num,new_den).simplify()\n",
    "    \n",
    "    def __sub__(self,other): # subtraction\n",
    "        \n",
    "        # add logic\n",
    "        new_num = self.numerator * other.denominator - other.numerator * self.denominator\n",
    "        new_den = self.denominator * other.denominator\n",
    "        return Fraction(new_num,new_den).simplify()\n",
    "    \n",
    "    def __mul__(self,other): # multiplication\n",
    "        # add logic\n",
    "        new_num = self.numerator *  other.numerator\n",
    "        new_den = self.denominator * other.denominator\n",
    "        return Fraction(new_num,new_den).simplify()\n",
    "    \n",
    "    def __truediv__(self,other): # division\n",
    "        new_num = self.numerator *  other.denominator\n",
    "        new_den = self.denominator * other.numerator\n",
    "        return Fraction(new_num,new_den).simplify()\n",
    "    \n",
    "    def __eq__(self,other):\n",
    "        return self.numerator == other.numerator and self.denominator == other.denominator\n",
    "    \n",
    "    \n",
    "    \n",
    "    \n",
    "    def __lt__ ## less than\n",
    "    \n",
    "    def __ne__ ## not equal\n",
    "    \n",
    "    def __gt__ ## greater than \n",
    "    \n",
    "    "
   ]
  },
  {
   "cell_type": "code",
   "execution_count": 15,
   "id": "6a54afa9-afb2-4d62-969a-80d86b2d7073",
   "metadata": {
    "tags": []
   },
   "outputs": [],
   "source": [
    "from Fraction import Fraction\n",
    "from math import sqrt"
   ]
  },
  {
   "cell_type": "code",
   "execution_count": 22,
   "id": "6238a5b8-4c5c-4268-a258-759dfc0be9ed",
   "metadata": {
    "tags": []
   },
   "outputs": [
    {
     "name": "stdout",
     "output_type": "stream",
     "text": [
      " A fraction is created\n"
     ]
    }
   ],
   "source": [
    "f1 = Fraction_main(3,5)"
   ]
  },
  {
   "cell_type": "code",
   "execution_count": 79,
   "id": "3418d84f-b8ec-4535-afb8-50f8c9635303",
   "metadata": {
    "tags": []
   },
   "outputs": [
    {
     "name": "stdout",
     "output_type": "stream",
     "text": [
      "3/5\n"
     ]
    }
   ],
   "source": [
    "print(f1) # want the output as 3/5"
   ]
  },
  {
   "cell_type": "code",
   "execution_count": 23,
   "id": "327e620d-447e-457d-b651-5cc291d8ef37",
   "metadata": {
    "tags": []
   },
   "outputs": [
    {
     "name": "stdout",
     "output_type": "stream",
     "text": [
      " A fraction is created\n"
     ]
    }
   ],
   "source": [
    "f2 = Fraction_main(1,5)"
   ]
  },
  {
   "cell_type": "code",
   "execution_count": 81,
   "id": "5f915c81-4a7a-4ddb-b145-aa5a35cc9e55",
   "metadata": {
    "tags": []
   },
   "outputs": [
    {
     "name": "stdout",
     "output_type": "stream",
     "text": [
      "1/5\n"
     ]
    }
   ],
   "source": [
    "print(f2)"
   ]
  },
  {
   "cell_type": "code",
   "execution_count": 97,
   "id": "7befedac-519b-43e0-927e-358a50c1f099",
   "metadata": {
    "tags": []
   },
   "outputs": [
    {
     "name": "stdout",
     "output_type": "stream",
     "text": [
      " A fraction is created\n"
     ]
    }
   ],
   "source": [
    "f3 = Fraction(20,25)"
   ]
  },
  {
   "cell_type": "code",
   "execution_count": 83,
   "id": "bfba568b-2a63-4a29-a33a-a0f2f955f175",
   "metadata": {
    "tags": []
   },
   "outputs": [
    {
     "name": "stdout",
     "output_type": "stream",
     "text": [
      " A fraction is created\n",
      "4/5\n"
     ]
    }
   ],
   "source": [
    "print(f3.simplify())"
   ]
  },
  {
   "cell_type": "code",
   "execution_count": 84,
   "id": "74de0761-811f-46cb-b868-eab701d8c006",
   "metadata": {
    "tags": []
   },
   "outputs": [
    {
     "name": "stdout",
     "output_type": "stream",
     "text": [
      " A fraction is created\n",
      " A fraction is created\n"
     ]
    }
   ],
   "source": [
    "add_result = f1 + f2 # 3/5 + 1/5"
   ]
  },
  {
   "cell_type": "code",
   "execution_count": 85,
   "id": "b3f8176b-d0ab-4bfe-9caf-606d23c938ba",
   "metadata": {
    "tags": []
   },
   "outputs": [
    {
     "name": "stdout",
     "output_type": "stream",
     "text": [
      "4/5\n"
     ]
    }
   ],
   "source": [
    "print(add_result)"
   ]
  },
  {
   "cell_type": "code",
   "execution_count": 90,
   "id": "779b2f27-99f9-404d-8816-45a406bafda1",
   "metadata": {
    "tags": []
   },
   "outputs": [
    {
     "name": "stdout",
     "output_type": "stream",
     "text": [
      "3/5 1/5\n"
     ]
    }
   ],
   "source": [
    "print(f1,f2)"
   ]
  },
  {
   "cell_type": "code",
   "execution_count": 98,
   "id": "3bdbc05f-ad3c-4f9c-80bd-7c1b957f4875",
   "metadata": {
    "tags": []
   },
   "outputs": [
    {
     "name": "stdout",
     "output_type": "stream",
     "text": [
      " A fraction is created\n",
      "2/5\n"
     ]
    }
   ],
   "source": [
    "print(f1-f2)"
   ]
  },
  {
   "cell_type": "code",
   "execution_count": 103,
   "id": "a98c39a8-a40b-405e-9b5b-bfdd1f99d566",
   "metadata": {
    "tags": []
   },
   "outputs": [
    {
     "name": "stdout",
     "output_type": "stream",
     "text": [
      " A fraction is created\n",
      "3/25\n"
     ]
    }
   ],
   "source": [
    "print(f1*f2)"
   ]
  },
  {
   "cell_type": "code",
   "execution_count": 24,
   "id": "87a21d14-caca-4ba5-968f-eb2a5bcb078d",
   "metadata": {
    "tags": []
   },
   "outputs": [
    {
     "name": "stdout",
     "output_type": "stream",
     "text": [
      " A fraction is created\n",
      "3/1\n"
     ]
    }
   ],
   "source": [
    "print(f1/f2)"
   ]
  },
  {
   "cell_type": "code",
   "execution_count": 30,
   "id": "ecb3a9a6-ba99-4812-b75a-99a8bfaa42c3",
   "metadata": {
    "tags": []
   },
   "outputs": [
    {
     "name": "stdout",
     "output_type": "stream",
     "text": [
      " A fraction is created\n",
      " A fraction is created\n"
     ]
    }
   ],
   "source": [
    "f1 = Fraction_main(1,5)\n",
    "f2 = Fraction_main(1,5)"
   ]
  },
  {
   "cell_type": "code",
   "execution_count": 31,
   "id": "da6364c3-9064-4d28-aff1-e438093c9e15",
   "metadata": {
    "tags": []
   },
   "outputs": [
    {
     "data": {
      "text/plain": [
       "(<__main__.Fraction_main at 0x1060d9590>,\n",
       " <__main__.Fraction_main at 0x1060db850>)"
      ]
     },
     "execution_count": 31,
     "metadata": {},
     "output_type": "execute_result"
    }
   ],
   "source": [
    "f1,f2"
   ]
  },
  {
   "cell_type": "code",
   "execution_count": 32,
   "id": "8629b4f9-64ba-45e7-b910-d8d7abd09ba5",
   "metadata": {
    "tags": []
   },
   "outputs": [
    {
     "data": {
      "text/plain": [
       "True"
      ]
     },
     "execution_count": 32,
     "metadata": {},
     "output_type": "execute_result"
    }
   ],
   "source": [
    "f1 == f2"
   ]
  },
  {
   "cell_type": "code",
   "execution_count": 86,
   "id": "9494a64a-7a70-4d23-9659-73c3fb5ba685",
   "metadata": {
    "tags": []
   },
   "outputs": [
    {
     "data": {
      "text/plain": [
       "(1+2j)"
      ]
     },
     "execution_count": 86,
     "metadata": {},
     "output_type": "execute_result"
    }
   ],
   "source": [
    "complex(1,2)"
   ]
  },
  {
   "cell_type": "code",
   "execution_count": null,
   "id": "2ae1b4ce-4763-4409-a451-bd4d2df06509",
   "metadata": {},
   "outputs": [],
   "source": [
    "My email ID :- mayank@ineuron.ai"
   ]
  },
  {
   "cell_type": "markdown",
   "id": "48acae26-66ab-4ad4-b0e2-900cffef69eb",
   "metadata": {
    "tags": []
   },
   "source": [
    "# Operator Overloading"
   ]
  },
  {
   "cell_type": "code",
   "execution_count": null,
   "id": "dad5b2e6-14db-4396-8a1d-bf0b90219c43",
   "metadata": {},
   "outputs": [],
   "source": []
  },
  {
   "cell_type": "code",
   "execution_count": null,
   "id": "07946c8c-87aa-4796-97ad-72453002d544",
   "metadata": {},
   "outputs": [],
   "source": []
  },
  {
   "cell_type": "code",
   "execution_count": null,
   "id": "6b94c44e-7b66-4e89-a744-2908f8477202",
   "metadata": {},
   "outputs": [],
   "source": []
  },
  {
   "cell_type": "markdown",
   "id": "7bb5a442-2a81-4e64-bcd0-ad88fe27804e",
   "metadata": {},
   "source": [
    "# Inheritance"
   ]
  },
  {
   "cell_type": "code",
   "execution_count": 74,
   "id": "6d5cab12-80c9-477b-9479-f282c7b4c0ce",
   "metadata": {
    "tags": []
   },
   "outputs": [],
   "source": [
    "class Animal :\n",
    "    def __init__(self,species,sound):\n",
    "        self.species = species\n",
    "        self.sound = sound\n",
    "    \n",
    "    def make_sound(self):\n",
    "        print(f\"the sound is {self.sound} and the species is {self.species}\")"
   ]
  },
  {
   "cell_type": "code",
   "execution_count": 75,
   "id": "2c1278a3-af80-4a1c-aec2-113cd91a0b30",
   "metadata": {
    "tags": []
   },
   "outputs": [],
   "source": [
    "class Dog(Animal):\n",
    "    def bite(self):\n",
    "        print(\"i am a dog and I can bite\")"
   ]
  },
  {
   "cell_type": "code",
   "execution_count": 80,
   "id": "ae18440e-bea7-4cf0-8896-850f05a96a71",
   "metadata": {
    "tags": []
   },
   "outputs": [],
   "source": [
    "class Cat(Animal):\n",
    "    def __init__(self,name):\n",
    "        super().__init__(\"cat\",\"meow\")\n",
    "        self.name = name\n",
    "    \n",
    "    def purr(self):\n",
    "        print(\"I am a cat and I can purr\")\n",
    "    \n",
    "    def make_sound(self):\n",
    "        print(f\"the name is {self.name}\")"
   ]
  },
  {
   "cell_type": "code",
   "execution_count": 52,
   "id": "ca41ac76-3fec-4c82-8351-d8424d8d8c93",
   "metadata": {
    "tags": []
   },
   "outputs": [],
   "source": [
    "animal1 = Animal(\"cow\",\"moo\")"
   ]
  },
  {
   "cell_type": "code",
   "execution_count": 53,
   "id": "d5a9cee8-b2bd-4eee-8add-fb638ef714be",
   "metadata": {
    "tags": []
   },
   "outputs": [
    {
     "name": "stdout",
     "output_type": "stream",
     "text": [
      "the sound is moo and the species is cow\n"
     ]
    }
   ],
   "source": [
    "animal1.make_sound()"
   ]
  },
  {
   "cell_type": "code",
   "execution_count": 54,
   "id": "65bd569c-995e-4eee-bf97-7914eb1aad40",
   "metadata": {
    "tags": []
   },
   "outputs": [],
   "source": [
    "dog1 = Dog(\"dog\",\"bark\")"
   ]
  },
  {
   "cell_type": "code",
   "execution_count": 55,
   "id": "d0db7bcd-63cd-4800-8795-c1612544344d",
   "metadata": {
    "tags": []
   },
   "outputs": [
    {
     "name": "stdout",
     "output_type": "stream",
     "text": [
      "the sound is bark and the species is dog\n"
     ]
    }
   ],
   "source": [
    "dog1.make_sound()"
   ]
  },
  {
   "cell_type": "code",
   "execution_count": 56,
   "id": "a9e29b3b-c3d6-4ddc-9ec2-69b53361ad25",
   "metadata": {
    "tags": []
   },
   "outputs": [
    {
     "name": "stdout",
     "output_type": "stream",
     "text": [
      "i am a dog and I can bite\n"
     ]
    }
   ],
   "source": [
    "dog1.bite()"
   ]
  },
  {
   "cell_type": "code",
   "execution_count": 57,
   "id": "6cd878da-e8d5-44dc-8040-91ecbfe4c932",
   "metadata": {
    "tags": []
   },
   "outputs": [
    {
     "ename": "AttributeError",
     "evalue": "'Animal' object has no attribute 'bite'",
     "output_type": "error",
     "traceback": [
      "\u001b[0;31m---------------------------------------------------------------------------\u001b[0m",
      "\u001b[0;31mAttributeError\u001b[0m                            Traceback (most recent call last)",
      "Cell \u001b[0;32mIn[57], line 1\u001b[0m\n\u001b[0;32m----> 1\u001b[0m animal1\u001b[38;5;241m.\u001b[39mbite()\n",
      "\u001b[0;31mAttributeError\u001b[0m: 'Animal' object has no attribute 'bite'"
     ]
    }
   ],
   "source": [
    "animal1.bite()"
   ]
  },
  {
   "cell_type": "code",
   "execution_count": 64,
   "id": "761047aa-6558-42a7-a50c-0fa17940acf4",
   "metadata": {
    "tags": []
   },
   "outputs": [],
   "source": [
    "cat1 = Cat(\"bubbles\")"
   ]
  },
  {
   "cell_type": "code",
   "execution_count": 65,
   "id": "e984b1d7-efec-4f58-b7e3-36c7bd859685",
   "metadata": {
    "tags": []
   },
   "outputs": [
    {
     "name": "stdout",
     "output_type": "stream",
     "text": [
      "the sound is meow and the species is cat\n"
     ]
    }
   ],
   "source": [
    "cat1.make_sound()"
   ]
  },
  {
   "cell_type": "code",
   "execution_count": 81,
   "id": "c68477aa-b833-4e92-916d-ec82c7250216",
   "metadata": {
    "tags": []
   },
   "outputs": [],
   "source": [
    "cat2 = Cat(\"butter\")"
   ]
  },
  {
   "cell_type": "code",
   "execution_count": 82,
   "id": "ca70e7e7-1d61-43e1-a12b-d7cac5002cd2",
   "metadata": {
    "tags": []
   },
   "outputs": [
    {
     "name": "stdout",
     "output_type": "stream",
     "text": [
      "the sound is meow and the species is cat\n",
      "the name is butter\n"
     ]
    }
   ],
   "source": [
    "cat2.make_sound() # after overloading"
   ]
  },
  {
   "cell_type": "code",
   "execution_count": 71,
   "id": "20924f2d-b709-4239-90cb-3ffa5fcb620f",
   "metadata": {
    "tags": []
   },
   "outputs": [
    {
     "name": "stdout",
     "output_type": "stream",
     "text": [
      "the sound is meow and the species is cat\n"
     ]
    }
   ],
   "source": [
    "cat2.make_sound() # old"
   ]
  },
  {
   "cell_type": "code",
   "execution_count": 83,
   "id": "b38a1e4a-9861-4659-bf79-3e3077f965d6",
   "metadata": {
    "tags": []
   },
   "outputs": [],
   "source": [
    "animal2 = Animal(\"lion\",\"roar\")"
   ]
  },
  {
   "cell_type": "code",
   "execution_count": 85,
   "id": "765a69df-2925-489b-93e8-950a4d4525ed",
   "metadata": {
    "tags": []
   },
   "outputs": [
    {
     "ename": "AttributeError",
     "evalue": "'Animal' object has no attribute 'purr'",
     "output_type": "error",
     "traceback": [
      "\u001b[0;31m---------------------------------------------------------------------------\u001b[0m",
      "\u001b[0;31mAttributeError\u001b[0m                            Traceback (most recent call last)",
      "Cell \u001b[0;32mIn[85], line 1\u001b[0m\n\u001b[0;32m----> 1\u001b[0m animal2\u001b[38;5;241m.\u001b[39mpurr()\n",
      "\u001b[0;31mAttributeError\u001b[0m: 'Animal' object has no attribute 'purr'"
     ]
    }
   ],
   "source": [
    "animal2.purr()"
   ]
  },
  {
   "cell_type": "markdown",
   "id": "7fdcc6b4-fe43-4863-86d8-9fbd7218ab2b",
   "metadata": {
    "tags": []
   },
   "source": [
    "# Method Overriding"
   ]
  }
 ],
 "metadata": {
  "kernelspec": {
   "display_name": "Python 3 (ipykernel)",
   "language": "python",
   "name": "python3"
  },
  "language_info": {
   "codemirror_mode": {
    "name": "ipython",
    "version": 3
   },
   "file_extension": ".py",
   "mimetype": "text/x-python",
   "name": "python",
   "nbconvert_exporter": "python",
   "pygments_lexer": "ipython3",
   "version": "3.11.5"
  }
 },
 "nbformat": 4,
 "nbformat_minor": 5
}
