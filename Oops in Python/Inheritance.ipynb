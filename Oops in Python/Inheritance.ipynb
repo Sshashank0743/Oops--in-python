{
 "cells": [
  {
   "cell_type": "markdown",
   "id": "a7595ccf-3ed5-4289-9f78-8aa570fa2f54",
   "metadata": {},
   "source": [
    "# Create a Python class named Fraction to represent fractions. The class should have the following features:\n",
    "\n",
    "1. A constructor method (__init__) that initializes the fraction's numerator and denominator.\n",
    "2. Methods to perform the following operations:\n",
    "- Addition (+)\n",
    "- Subtraction (-)\n",
    "- Multiplication (*)\n",
    "- Division (/)\n",
    "- Comparison (==, !=, <, <=, >, >=)\n",
    "3. A method to simplify the fraction"
   ]
  },
  {
   "cell_type": "code",
   "execution_count": 1,
   "id": "85d7b892-109e-49c6-9b7a-ee1c6ad56b8d",
   "metadata": {},
   "outputs": [
    {
     "data": {
      "text/plain": [
       "0.6"
      ]
     },
     "execution_count": 1,
     "metadata": {},
     "output_type": "execute_result"
    }
   ],
   "source": [
    "3 / 5"
   ]
  },
  {
   "cell_type": "code",
   "execution_count": 2,
   "id": "4cc9168e-82b3-4887-a01a-a25f4461716f",
   "metadata": {},
   "outputs": [
    {
     "data": {
      "text/plain": [
       "0.2"
      ]
     },
     "execution_count": 2,
     "metadata": {},
     "output_type": "execute_result"
    }
   ],
   "source": [
    "1 / 5"
   ]
  },
  {
   "cell_type": "code",
   "execution_count": 3,
   "id": "1c6c28b6-abf8-498d-9fec-c92b3ceacdd2",
   "metadata": {},
   "outputs": [
    {
     "data": {
      "text/plain": [
       "0.8"
      ]
     },
     "execution_count": 3,
     "metadata": {},
     "output_type": "execute_result"
    }
   ],
   "source": [
    "3 / 5 + 1 / 5"
   ]
  },
  {
   "cell_type": "markdown",
   "id": "584fd1c5-0ef1-46a1-901c-20e1da6aa700",
   "metadata": {},
   "source": [
    "## Creating a fraction class"
   ]
  },
  {
   "cell_type": "code",
   "execution_count": 15,
   "id": "264d8ccc-8996-42a3-a435-d0a278d97030",
   "metadata": {},
   "outputs": [],
   "source": [
    "class Fraction:\n",
    "    def __init__(self, num, den):\n",
    "        self.numerator = num\n",
    "        self.denominator = den\n",
    "        print(\"A fraction is created\")\n",
    "    def __str__(self):\n",
    "        return f\"{self.numerator} / {self.denominator}\""
   ]
  },
  {
   "cell_type": "code",
   "execution_count": 16,
   "id": "d4b3d5c8-7a68-4e20-8aac-551f869addce",
   "metadata": {},
   "outputs": [
    {
     "name": "stdout",
     "output_type": "stream",
     "text": [
      "A fraction is created\n"
     ]
    }
   ],
   "source": [
    "f1 = Fraction(2,7)"
   ]
  },
  {
   "cell_type": "code",
   "execution_count": 17,
   "id": "ead89d0f-ec96-4b9e-a1ae-ce14b43b7be0",
   "metadata": {},
   "outputs": [
    {
     "name": "stdout",
     "output_type": "stream",
     "text": [
      "2 / 7\n"
     ]
    }
   ],
   "source": [
    "print(f1)"
   ]
  },
  {
   "cell_type": "code",
   "execution_count": 18,
   "id": "ba768b8f-22da-4535-ac07-20d01f88af6c",
   "metadata": {},
   "outputs": [
    {
     "name": "stdout",
     "output_type": "stream",
     "text": [
      "A fraction is created\n"
     ]
    }
   ],
   "source": [
    "f2 = Fraction(3,5)"
   ]
  },
  {
   "cell_type": "code",
   "execution_count": 19,
   "id": "26d2fe10-8a6d-4730-9df6-6449ce4794c1",
   "metadata": {},
   "outputs": [
    {
     "name": "stdout",
     "output_type": "stream",
     "text": [
      "3 / 5\n"
     ]
    }
   ],
   "source": [
    "print(f2)"
   ]
  },
  {
   "cell_type": "code",
   "execution_count": 20,
   "id": "d09d1a17-60f0-493c-8224-475ac8fbc48d",
   "metadata": {},
   "outputs": [
    {
     "ename": "TypeError",
     "evalue": "unsupported operand type(s) for +: 'Fraction' and 'Fraction'",
     "output_type": "error",
     "traceback": [
      "\u001b[1;31m---------------------------------------------------------------------------\u001b[0m",
      "\u001b[1;31mTypeError\u001b[0m                                 Traceback (most recent call last)",
      "Cell \u001b[1;32mIn[20], line 1\u001b[0m\n\u001b[1;32m----> 1\u001b[0m f1 \u001b[38;5;241m+\u001b[39m f2\n",
      "\u001b[1;31mTypeError\u001b[0m: unsupported operand type(s) for +: 'Fraction' and 'Fraction'"
     ]
    }
   ],
   "source": [
    "f1 + f2"
   ]
  },
  {
   "cell_type": "markdown",
   "id": "633a9c32-0d42-4626-9713-2b8fef7e362c",
   "metadata": {},
   "source": [
    "## Addition in Fraction"
   ]
  },
  {
   "cell_type": "code",
   "execution_count": 21,
   "id": "a527747a-a05f-476c-9e10-84366d85a90b",
   "metadata": {},
   "outputs": [],
   "source": [
    "class Fraction1:\n",
    "    def __init__(self, num, den):\n",
    "        self.numerator = num\n",
    "        self.denominator = den\n",
    "        print(\"A fraction is created\")\n",
    "    def __str__(self):\n",
    "        return f\"{self.numerator} / {self.denominator}\"\n",
    "    def __add__(self, other):\n",
    "        print(self)\n",
    "        print(other)"
   ]
  },
  {
   "cell_type": "code",
   "execution_count": null,
   "id": "73309936-363a-47d8-94af-cc0928289eed",
   "metadata": {},
   "outputs": [],
   "source": []
  }
 ],
 "metadata": {
  "kernelspec": {
   "display_name": "Python [conda env:base] *",
   "language": "python",
   "name": "conda-base-py"
  },
  "language_info": {
   "codemirror_mode": {
    "name": "ipython",
    "version": 3
   },
   "file_extension": ".py",
   "mimetype": "text/x-python",
   "name": "python",
   "nbconvert_exporter": "python",
   "pygments_lexer": "ipython3",
   "version": "3.13.5"
  }
 },
 "nbformat": 4,
 "nbformat_minor": 5
}
