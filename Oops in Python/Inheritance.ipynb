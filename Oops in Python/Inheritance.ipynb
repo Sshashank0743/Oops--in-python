{
 "cells": [
  {
   "cell_type": "markdown",
   "id": "a7595ccf-3ed5-4289-9f78-8aa570fa2f54",
   "metadata": {},
   "source": [
    "# Create a Python class named Fraction to represent fractions. The class should have the following features:\n",
    "\n",
    "1. A constructor method (__init__) that initializes the fraction's numerator and denominator.\n",
    "2. Methods to perform the following operations:\n",
    "- Addition (+)\n",
    "- Subtraction (-)\n",
    "- Multiplication (*)\n",
    "- Division (/)\n",
    "- Comparison (==, !=, <, <=, >, >=)\n",
    "3. A method to simplify the fraction"
   ]
  },
  {
   "cell_type": "code",
   "execution_count": 1,
   "id": "85d7b892-109e-49c6-9b7a-ee1c6ad56b8d",
   "metadata": {},
   "outputs": [
    {
     "data": {
      "text/plain": [
       "0.6"
      ]
     },
     "execution_count": 1,
     "metadata": {},
     "output_type": "execute_result"
    }
   ],
   "source": [
    "3 / 5"
   ]
  },
  {
   "cell_type": "code",
   "execution_count": 2,
   "id": "4cc9168e-82b3-4887-a01a-a25f4461716f",
   "metadata": {},
   "outputs": [
    {
     "data": {
      "text/plain": [
       "0.2"
      ]
     },
     "execution_count": 2,
     "metadata": {},
     "output_type": "execute_result"
    }
   ],
   "source": [
    "1 / 5"
   ]
  },
  {
   "cell_type": "code",
   "execution_count": 3,
   "id": "1c6c28b6-abf8-498d-9fec-c92b3ceacdd2",
   "metadata": {},
   "outputs": [
    {
     "data": {
      "text/plain": [
       "0.8"
      ]
     },
     "execution_count": 3,
     "metadata": {},
     "output_type": "execute_result"
    }
   ],
   "source": [
    "3 / 5 + 1 / 5"
   ]
  },
  {
   "cell_type": "markdown",
   "id": "584fd1c5-0ef1-46a1-901c-20e1da6aa700",
   "metadata": {},
   "source": [
    "## Creating a fraction class"
   ]
  },
  {
   "cell_type": "code",
   "execution_count": null,
   "id": "264d8ccc-8996-42a3-a435-d0a278d97030",
   "metadata": {},
   "outputs": [],
   "source": []
  }
 ],
 "metadata": {
  "kernelspec": {
   "display_name": "Python 3 (ipykernel)",
   "language": "python",
   "name": "python3"
  },
  "language_info": {
   "codemirror_mode": {
    "name": "ipython",
    "version": 3
   },
   "file_extension": ".py",
   "mimetype": "text/x-python",
   "name": "python",
   "nbconvert_exporter": "python",
   "pygments_lexer": "ipython3",
   "version": "3.12.7"
  }
 },
 "nbformat": 4,
 "nbformat_minor": 5
}
