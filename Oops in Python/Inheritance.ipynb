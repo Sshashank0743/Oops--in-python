{
 "cells": [
  {
   "cell_type": "markdown",
   "id": "a7595ccf-3ed5-4289-9f78-8aa570fa2f54",
   "metadata": {},
   "source": [
    "# Create a Python class named Fraction to represent fractions. The class should have the following features:\n",
    "\n",
    "1. A constructor method (__init__) that initializes the fraction's numerator and denominator.\n",
    "2. Methods to perform the following operations:\n",
    "- Addition (+)\n",
    "- Subtraction (-)\n",
    "- Multiplication (*)\n",
    "- Division (/)\n",
    "- Comparison (==, !=, <, <=, >, >=)\n",
    "3. A method to simplify the fraction"
   ]
  },
  {
   "cell_type": "code",
   "execution_count": 1,
   "id": "85d7b892-109e-49c6-9b7a-ee1c6ad56b8d",
   "metadata": {},
   "outputs": [
    {
     "data": {
      "text/plain": [
       "0.6"
      ]
     },
     "execution_count": 1,
     "metadata": {},
     "output_type": "execute_result"
    }
   ],
   "source": [
    "3 / 5"
   ]
  },
  {
   "cell_type": "code",
   "execution_count": 2,
   "id": "4cc9168e-82b3-4887-a01a-a25f4461716f",
   "metadata": {},
   "outputs": [
    {
     "data": {
      "text/plain": [
       "0.2"
      ]
     },
     "execution_count": 2,
     "metadata": {},
     "output_type": "execute_result"
    }
   ],
   "source": [
    "1 / 5"
   ]
  },
  {
   "cell_type": "code",
   "execution_count": 3,
   "id": "1c6c28b6-abf8-498d-9fec-c92b3ceacdd2",
   "metadata": {},
   "outputs": [
    {
     "data": {
      "text/plain": [
       "0.8"
      ]
     },
     "execution_count": 3,
     "metadata": {},
     "output_type": "execute_result"
    }
   ],
   "source": [
    "3 / 5 + 1 / 5"
   ]
  },
  {
   "cell_type": "markdown",
   "id": "584fd1c5-0ef1-46a1-901c-20e1da6aa700",
   "metadata": {},
   "source": [
    "## Creating a fraction class"
   ]
  },
  {
   "cell_type": "code",
   "execution_count": 15,
   "id": "264d8ccc-8996-42a3-a435-d0a278d97030",
   "metadata": {},
   "outputs": [],
   "source": [
    "class Fraction:\n",
    "    def __init__(self, num, den):\n",
    "        self.numerator = num\n",
    "        self.denominator = den\n",
    "        print(\"A fraction is created\")\n",
    "    def __str__(self):\n",
    "        return f\"{self.numerator} / {self.denominator}\""
   ]
  },
  {
   "cell_type": "code",
   "execution_count": 16,
   "id": "d4b3d5c8-7a68-4e20-8aac-551f869addce",
   "metadata": {},
   "outputs": [
    {
     "name": "stdout",
     "output_type": "stream",
     "text": [
      "A fraction is created\n"
     ]
    }
   ],
   "source": [
    "f1 = Fraction(2,7)"
   ]
  },
  {
   "cell_type": "code",
   "execution_count": 17,
   "id": "ead89d0f-ec96-4b9e-a1ae-ce14b43b7be0",
   "metadata": {},
   "outputs": [
    {
     "name": "stdout",
     "output_type": "stream",
     "text": [
      "2 / 7\n"
     ]
    }
   ],
   "source": [
    "print(f1)"
   ]
  },
  {
   "cell_type": "code",
   "execution_count": 18,
   "id": "ba768b8f-22da-4535-ac07-20d01f88af6c",
   "metadata": {},
   "outputs": [
    {
     "name": "stdout",
     "output_type": "stream",
     "text": [
      "A fraction is created\n"
     ]
    }
   ],
   "source": [
    "f2 = Fraction(3,5)"
   ]
  },
  {
   "cell_type": "code",
   "execution_count": 19,
   "id": "26d2fe10-8a6d-4730-9df6-6449ce4794c1",
   "metadata": {},
   "outputs": [
    {
     "name": "stdout",
     "output_type": "stream",
     "text": [
      "3 / 5\n"
     ]
    }
   ],
   "source": [
    "print(f2)"
   ]
  },
  {
   "cell_type": "code",
   "execution_count": 20,
   "id": "d09d1a17-60f0-493c-8224-475ac8fbc48d",
   "metadata": {},
   "outputs": [
    {
     "ename": "TypeError",
     "evalue": "unsupported operand type(s) for +: 'Fraction' and 'Fraction'",
     "output_type": "error",
     "traceback": [
      "\u001b[1;31m---------------------------------------------------------------------------\u001b[0m",
      "\u001b[1;31mTypeError\u001b[0m                                 Traceback (most recent call last)",
      "Cell \u001b[1;32mIn[20], line 1\u001b[0m\n\u001b[1;32m----> 1\u001b[0m f1 \u001b[38;5;241m+\u001b[39m f2\n",
      "\u001b[1;31mTypeError\u001b[0m: unsupported operand type(s) for +: 'Fraction' and 'Fraction'"
     ]
    }
   ],
   "source": [
    "f1 + f2"
   ]
  },
  {
   "cell_type": "markdown",
   "id": "633a9c32-0d42-4626-9713-2b8fef7e362c",
   "metadata": {},
   "source": [
    "## Addition in Fraction"
   ]
  },
  {
   "cell_type": "code",
   "execution_count": 9,
   "id": "a527747a-a05f-476c-9e10-84366d85a90b",
   "metadata": {},
   "outputs": [],
   "source": [
    "class Fraction1:\n",
    "    def __init__(self, num, den):\n",
    "        self.numerator = num\n",
    "        self.denominator = den\n",
    "        print(\"A fraction is created\")\n",
    "        \n",
    "    def __str__(self):\n",
    "        return f\"{self.numerator} / {self.denominator}\"\n",
    "        \n",
    "    def __add__(self, other):\n",
    "        new_num = self.numerator * other.denominator + other.numerator * self.denominator\n",
    "        new_den = self.denominator * other.denominator\n",
    "        return Fraction1(new_num, new_den)"
   ]
  },
  {
   "cell_type": "code",
   "execution_count": 10,
   "id": "73309936-363a-47d8-94af-cc0928289eed",
   "metadata": {},
   "outputs": [
    {
     "name": "stdout",
     "output_type": "stream",
     "text": [
      "A fraction is created\n"
     ]
    }
   ],
   "source": [
    "f1 = Fraction1(2,7)"
   ]
  },
  {
   "cell_type": "code",
   "execution_count": 11,
   "id": "7abaf435-1254-4846-b743-9f729b15acd5",
   "metadata": {},
   "outputs": [
    {
     "name": "stdout",
     "output_type": "stream",
     "text": [
      "2 / 7\n"
     ]
    }
   ],
   "source": [
    "print(f1)"
   ]
  },
  {
   "cell_type": "code",
   "execution_count": 12,
   "id": "f8fe2a93-2eee-4128-ac0d-8dce6d435310",
   "metadata": {},
   "outputs": [
    {
     "name": "stdout",
     "output_type": "stream",
     "text": [
      "A fraction is created\n"
     ]
    }
   ],
   "source": [
    "f2 = Fraction1(3,8)"
   ]
  },
  {
   "cell_type": "code",
   "execution_count": 13,
   "id": "770a560d-4aca-4964-8de6-d7d6308cd1eb",
   "metadata": {},
   "outputs": [
    {
     "name": "stdout",
     "output_type": "stream",
     "text": [
      "3 / 8\n"
     ]
    }
   ],
   "source": [
    "print(f2)"
   ]
  },
  {
   "cell_type": "code",
   "execution_count": 14,
   "id": "7416920d-4c03-4938-ba7c-f29692baa130",
   "metadata": {},
   "outputs": [
    {
     "name": "stdout",
     "output_type": "stream",
     "text": [
      "A fraction is created\n"
     ]
    }
   ],
   "source": [
    "f3 = f1 + f2"
   ]
  },
  {
   "cell_type": "code",
   "execution_count": 15,
   "id": "678fd320-8589-4637-908c-d9cc50ba88dd",
   "metadata": {},
   "outputs": [
    {
     "name": "stdout",
     "output_type": "stream",
     "text": [
      "37 / 56\n"
     ]
    }
   ],
   "source": [
    "print(f3)"
   ]
  },
  {
   "cell_type": "code",
   "execution_count": 20,
   "id": "a30c0025-b986-4fd8-9285-d88fb675c131",
   "metadata": {},
   "outputs": [
    {
     "name": "stdout",
     "output_type": "stream",
     "text": [
      "A fraction is created\n"
     ]
    }
   ],
   "source": [
    "f4 = Fraction1(3,5)"
   ]
  },
  {
   "cell_type": "code",
   "execution_count": 21,
   "id": "7ba7d5f3-c9f8-4805-97a3-8a7eb2887be4",
   "metadata": {},
   "outputs": [
    {
     "name": "stdout",
     "output_type": "stream",
     "text": [
      "A fraction is created\n"
     ]
    }
   ],
   "source": [
    "f5 = Fraction1(3,5)"
   ]
  },
  {
   "cell_type": "code",
   "execution_count": 22,
   "id": "76dd26ed-10a0-48bb-8df9-e093bb403743",
   "metadata": {},
   "outputs": [
    {
     "name": "stdout",
     "output_type": "stream",
     "text": [
      "A fraction is created\n"
     ]
    }
   ],
   "source": [
    "f6 = f4 + f5"
   ]
  },
  {
   "cell_type": "code",
   "execution_count": 23,
   "id": "6116bd9c-729d-4da2-8598-2ffb1dc25f61",
   "metadata": {},
   "outputs": [
    {
     "name": "stdout",
     "output_type": "stream",
     "text": [
      "30 / 25\n"
     ]
    }
   ],
   "source": [
    "print(f6)"
   ]
  },
  {
   "cell_type": "markdown",
   "id": "32573803-6b8c-4413-9ea1-4209f7829435",
   "metadata": {},
   "source": [
    "# Simplified the answer by using simplify method"
   ]
  },
  {
   "cell_type": "code",
   "execution_count": 1,
   "id": "47ea659c-5905-45dc-ba31-051dc48007b5",
   "metadata": {},
   "outputs": [],
   "source": [
    "class Fraction2:\n",
    "    def __init__(self, num, den):\n",
    "        self.numerator = num\n",
    "        self.denominator = den\n",
    "        print(\"A fraction is created\")\n",
    "        \n",
    "    def __str__(self):\n",
    "        return f\"{self.numerator} / {self.denominator}\"\n",
    "        \n",
    "    def __add__(self, other):\n",
    "        new_num = self.numerator * other.denominator + other.numerator * self.denominator\n",
    "        new_den = self.denominator * other.denominator\n",
    "        return Fraction2(new_num, new_den).simplify()\n",
    "\n",
    "    def __sub__(self, other):\n",
    "        new_num = self.numerator * other.denominator - other.numerator * self.denominator\n",
    "        new_den = self.denominator * other.denominator\n",
    "        return Fraction2(new_num, new_den).simplify()\n",
    "\n",
    "    def __mul__(self, other):\n",
    "        new_num = self.numerator * other.numerator\n",
    "        new_den = self.denominator * other.denominator\n",
    "        return Fraction2(new_num, new_den).simplify()\n",
    "\n",
    "    def _gcd(self, num, den):\n",
    "        while den:\n",
    "            num, den = den, num%den\n",
    "        return num\n",
    "\n",
    "    def simplify(self):\n",
    "        gcd = self._gcd(self.numerator, self.denominator)\n",
    "        self.numerator = self.numerator // gcd\n",
    "        self.denominator = self.denominator // gcd\n",
    "        return Fraction2(self.numerator, self.denominator)\n",
    "\n",
    "    def __eq__(self, other):\n",
    "        return self.numerator == other.numerator and self.denominator == other.denominator\n",
    "\n",
    "    def __lt__(self, other):\n",
    "        return self"
   ]
  },
  {
   "cell_type": "code",
   "execution_count": 2,
   "id": "9de0a16c-dfcf-424a-ba1b-b3ecf717bb76",
   "metadata": {},
   "outputs": [
    {
     "name": "stdout",
     "output_type": "stream",
     "text": [
      "A fraction is created\n"
     ]
    }
   ],
   "source": [
    "f1 = Fraction2(20,25)"
   ]
  },
  {
   "cell_type": "code",
   "execution_count": 3,
   "id": "0dafe660-b3df-425f-8fb8-b717d06cd681",
   "metadata": {},
   "outputs": [
    {
     "name": "stdout",
     "output_type": "stream",
     "text": [
      "A fraction is created\n",
      "4 / 5\n"
     ]
    }
   ],
   "source": [
    "print(f1.simplify())"
   ]
  },
  {
   "cell_type": "code",
   "execution_count": 4,
   "id": "c8008815-f7b0-4928-8ddb-b10904c00dd5",
   "metadata": {},
   "outputs": [
    {
     "name": "stdout",
     "output_type": "stream",
     "text": [
      "A fraction is created\n"
     ]
    }
   ],
   "source": [
    "f2 = Fraction2(15,16)"
   ]
  },
  {
   "cell_type": "code",
   "execution_count": 5,
   "id": "d571f3e7-2665-47c7-81c7-459b7642a252",
   "metadata": {},
   "outputs": [
    {
     "name": "stdout",
     "output_type": "stream",
     "text": [
      "A fraction is created\n",
      "15 / 16\n"
     ]
    }
   ],
   "source": [
    "print(f2.simplify())"
   ]
  },
  {
   "cell_type": "code",
   "execution_count": 6,
   "id": "e222913d-8ac5-46cd-a5a2-ebeabc437d9d",
   "metadata": {},
   "outputs": [
    {
     "name": "stdout",
     "output_type": "stream",
     "text": [
      "A fraction is created\n",
      "A fraction is created\n",
      "139 / 80\n"
     ]
    }
   ],
   "source": [
    "print(f1 + f2)"
   ]
  },
  {
   "cell_type": "code",
   "execution_count": 7,
   "id": "d3ffffc5-2981-46ff-8247-adaa686673f7",
   "metadata": {},
   "outputs": [
    {
     "name": "stdout",
     "output_type": "stream",
     "text": [
      "A fraction is created\n",
      "A fraction is created\n",
      "11 / 80\n"
     ]
    }
   ],
   "source": [
    "print(f2 - f1)"
   ]
  },
  {
   "cell_type": "code",
   "execution_count": 8,
   "id": "bd577edc-bc2d-408a-ac06-aa29cb0e014b",
   "metadata": {},
   "outputs": [
    {
     "name": "stdout",
     "output_type": "stream",
     "text": [
      "A fraction is created\n",
      "A fraction is created\n",
      "3 / 4\n"
     ]
    }
   ],
   "source": [
    "print(f1 * f2)"
   ]
  },
  {
   "cell_type": "code",
   "execution_count": 10,
   "id": "4c144693-8f88-4b9d-bfea-ab02a65f3dac",
   "metadata": {},
   "outputs": [
    {
     "data": {
      "text/plain": [
       "True"
      ]
     },
     "execution_count": 10,
     "metadata": {},
     "output_type": "execute_result"
    }
   ],
   "source": [
    "f1 != f2 "
   ]
  },
  {
   "cell_type": "code",
   "execution_count": 11,
   "id": "df6fa9a2-7ca8-46d1-b69c-3175280ae120",
   "metadata": {},
   "outputs": [
    {
     "data": {
      "text/plain": [
       "False"
      ]
     },
     "execution_count": 11,
     "metadata": {},
     "output_type": "execute_result"
    }
   ],
   "source": [
    "f1 == f2 "
   ]
  },
  {
   "cell_type": "markdown",
   "id": "1ca806c9-8f8a-43cf-911f-d1665e48e92f",
   "metadata": {},
   "source": [
    "## Inheritance"
   ]
  },
  {
   "cell_type": "code",
   "execution_count": 9,
   "id": "5dfa146f-e0bb-4308-9340-eac4ad950240",
   "metadata": {},
   "outputs": [],
   "source": [
    "class Animal():\n",
    "    def __init__(self, species, sound):\n",
    "        self.species = species\n",
    "        self.sound = sound\n",
    "\n",
    "    def make_sound(self):\n",
    "        print(f\"The sound of {self.sound} is related to the {self.species} specy\")"
   ]
  },
  {
   "cell_type": "code",
   "execution_count": 18,
   "id": "38e32761-03c0-4e80-96f5-7c059a8d4d7d",
   "metadata": {},
   "outputs": [],
   "source": [
    "class Dog(Animal):\n",
    "    def bite(self):\n",
    "        print(\"I am a dog and I can bite.\")"
   ]
  },
  {
   "cell_type": "code",
   "execution_count": 47,
   "id": "172ca410-345b-4585-bb7c-507c0012165c",
   "metadata": {},
   "outputs": [],
   "source": [
    "class Cat(Animal):\n",
    "    def __init__(self, name):\n",
    "        self.name = name\n",
    "        self.species = \"cat\"\n",
    "        self.sound = \"meaow\"\n",
    "\n",
    "    def purr(self):\n",
    "        print(\"I am cat and I can purr\")"
   ]
  },
  {
   "cell_type": "code",
   "execution_count": 48,
   "id": "8804fcbc-5651-4ef8-b5fa-10900f2f79c4",
   "metadata": {},
   "outputs": [],
   "source": [
    "animal1 = Animal(\"cow\", \"moo\")"
   ]
  },
  {
   "cell_type": "code",
   "execution_count": 49,
   "id": "68774ace-ef30-4e8f-acc8-ebec8fe34030",
   "metadata": {},
   "outputs": [
    {
     "name": "stdout",
     "output_type": "stream",
     "text": [
      "The sound of moo is related to the cow specy\n"
     ]
    }
   ],
   "source": [
    "animal1.make_sound()"
   ]
  },
  {
   "cell_type": "code",
   "execution_count": 50,
   "id": "d3fa8e30-e0fb-49fa-ba31-c5848bd65b0b",
   "metadata": {},
   "outputs": [
    {
     "ename": "AttributeError",
     "evalue": "'Animal' object has no attribute 'bite'",
     "output_type": "error",
     "traceback": [
      "\u001b[1;31m---------------------------------------------------------------------------\u001b[0m",
      "\u001b[1;31mAttributeError\u001b[0m                            Traceback (most recent call last)",
      "Cell \u001b[1;32mIn[50], line 1\u001b[0m\n\u001b[1;32m----> 1\u001b[0m animal1\u001b[38;5;241m.\u001b[39mbite()\n",
      "\u001b[1;31mAttributeError\u001b[0m: 'Animal' object has no attribute 'bite'"
     ]
    }
   ],
   "source": [
    "animal1.bite()"
   ]
  },
  {
   "cell_type": "code",
   "execution_count": 51,
   "id": "b9049f5f-752b-42cb-9c9b-65251b338589",
   "metadata": {},
   "outputs": [],
   "source": [
    "animal2 = Dog(\"Dog\", \"Bark\")"
   ]
  },
  {
   "cell_type": "code",
   "execution_count": 52,
   "id": "fa330996-e8b3-415a-9f58-7b944fd91b28",
   "metadata": {},
   "outputs": [
    {
     "name": "stdout",
     "output_type": "stream",
     "text": [
      "The sound of Bark is related to the Dog specy\n"
     ]
    }
   ],
   "source": [
    "animal2.make_sound()"
   ]
  },
  {
   "cell_type": "code",
   "execution_count": 53,
   "id": "5e7c2371-9f3d-487f-92a9-b2925b858550",
   "metadata": {},
   "outputs": [
    {
     "name": "stdout",
     "output_type": "stream",
     "text": [
      "I am a dog and I can bite.\n"
     ]
    }
   ],
   "source": [
    "animal2.bite()"
   ]
  },
  {
   "cell_type": "code",
   "execution_count": 54,
   "id": "9cdd3681-1242-450a-b969-773ae7170465",
   "metadata": {},
   "outputs": [],
   "source": [
    "cat1 = Cat(\"Pink\")"
   ]
  },
  {
   "cell_type": "code",
   "execution_count": 55,
   "id": "fd8523e8-7134-499e-bc95-702f47843686",
   "metadata": {},
   "outputs": [
    {
     "name": "stdout",
     "output_type": "stream",
     "text": [
      "The sound of meaow is related to the cat specy\n"
     ]
    }
   ],
   "source": [
    "cat1.make_sound()"
   ]
  },
  {
   "cell_type": "code",
   "execution_count": null,
   "id": "fc4ff808-27e9-476e-9983-1f47a17663de",
   "metadata": {},
   "outputs": [],
   "source": []
  },
  {
   "cell_type": "markdown",
   "id": "c67b87b5-b5a0-45ea-9219-8c29e566a0cf",
   "metadata": {},
   "source": [
    "## Dog is able to animal constructor, methods and data methods but animal class can not use the Dog cunstructor."
   ]
  },
  {
   "cell_type": "code",
   "execution_count": null,
   "id": "ffc6478f-52ad-468c-8d6d-9cf70e566450",
   "metadata": {},
   "outputs": [],
   "source": [
    "\"\"\"\n",
    "Create a Python class named `ComplexNumber` to represent complex numbers.\n",
    "\n",
    "Theory:\n",
    "A complex number is a number that comprises a real part and an imaginary part.\n",
    "It is typically written in the form a + bi, where 'a' is the real part,\n",
    "and 'b' is the imaginary part, and 'i' is the imaginary unit (√-1).\n",
    "\n",
    "Operations:\n",
    "1. Addition (+)\n",
    "2. Subtraction (-)\n",
    "3. Multiplication (*)\n",
    "4. Division (/)\n",
    "5. Comparison (==, !=)\n",
    "\n",
    "Test Cases:\n",
    "Test Case 1:\n",
    "complex1 = ComplexNumber(3, 4)\n",
    "complex2 = ComplexNumber(1, -2)\n",
    "assert str(complex1) == \"3+4i\"\n",
    "assert str(complex2) == \"1-2i\"\n",
    "assert str(complex1 + complex2) == \"4+2i\"\n",
    "assert str(complex1 - complex2) == \"2+6i\"\n",
    "assert str(complex1 * complex2) == \"11-2i\"\n",
    "assert str(complex1 / complex2) == \"-1.0+2.5i\"\n",
    "assert complex1 != complex2\n",
    "\n",
    "Test Case 2:\n",
    "complex3 = ComplexNumber(-2, 5)\n",
    "complex4 = ComplexNumber(2, 3)\n",
    "assert str(complex3) == \"-2+5i\"\n",
    "assert str(complex4) == \"2+3i\"\n",
    "assert str(complex3 + complex4) == \"0+8i\"\n",
    "assert str(complex3 - complex4) == \"-4+2i\"\n",
    "assert str(complex3 * complex4) == \"-16-1i\"\n",
    "assert str(complex3 / complex4) == \"1.0+i\"\n",
    "assert complex3 != complex4\n",
    "\"\"\""
   ]
  },
  {
   "cell_type": "code",
   "execution_count": 4,
   "id": "1ba33a53-6138-4251-b8c6-7a53647f97f1",
   "metadata": {},
   "outputs": [
    {
     "data": {
      "text/plain": [
       "(3+2j)"
      ]
     },
     "execution_count": 4,
     "metadata": {},
     "output_type": "execute_result"
    }
   ],
   "source": [
    "c1 = complex(3,2)\n",
    "c1"
   ]
  },
  {
   "cell_type": "code",
   "execution_count": null,
   "id": "c19a466f-2185-4242-923e-8eb128d466a2",
   "metadata": {},
   "outputs": [],
   "source": []
  }
 ],
 "metadata": {
  "kernelspec": {
   "display_name": "Python [conda env:base] *",
   "language": "python",
   "name": "conda-base-py"
  },
  "language_info": {
   "codemirror_mode": {
    "name": "ipython",
    "version": 3
   },
   "file_extension": ".py",
   "mimetype": "text/x-python",
   "name": "python",
   "nbconvert_exporter": "python",
   "pygments_lexer": "ipython3",
   "version": "3.13.5"
  }
 },
 "nbformat": 4,
 "nbformat_minor": 5
}
