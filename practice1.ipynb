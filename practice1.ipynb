{
 "cells": [
  {
   "cell_type": "code",
   "execution_count": 1,
   "id": "cbb2f531-28a2-4547-8f56-a20c6badafbf",
   "metadata": {
    "panel-layout": {
     "height": 0,
     "visible": true,
     "width": 100
    }
   },
   "outputs": [
    {
     "name": "stdout",
     "output_type": "stream",
     "text": [
      "35\n",
      "['False', 'None', 'True', 'and', 'as', 'assert', 'async', 'await', 'break', 'class', 'continue', 'def', 'del', 'elif', 'else', 'except', 'finally', 'for', 'from', 'global', 'if', 'import', 'in', 'is', 'lambda', 'nonlocal', 'not', 'or', 'pass', 'raise', 'return', 'try', 'while', 'with', 'yield']\n"
     ]
    }
   ],
   "source": [
    "import keyword\n",
    "print(len(keyword.kwlist))\n",
    "print(keyword.kwlist)"
   ]
  },
  {
   "cell_type": "code",
   "execution_count": 3,
   "id": "5d881bd4-667d-4f26-9a91-092a219fb3c0",
   "metadata": {
    "panel-layout": {
     "height": 0,
     "visible": true,
     "width": 100
    }
   },
   "outputs": [
    {
     "name": "stdout",
     "output_type": "stream",
     "text": [
      "20\n"
     ]
    }
   ],
   "source": [
    "hello1 = 20\n",
    "print(hello1)"
   ]
  },
  {
   "cell_type": "code",
   "execution_count": 5,
   "id": "11104e9d-f396-4137-9629-107c636f1cd2",
   "metadata": {
    "panel-layout": {
     "height": 0,
     "visible": true,
     "width": 100
    }
   },
   "outputs": [
    {
     "name": "stdout",
     "output_type": "stream",
     "text": [
      "100\n"
     ]
    }
   ],
   "source": [
    "def square(num):\n",
    "    \"\"\"\n",
    "    Function is to square a number.\n",
    "    Print this docstring using __doc__\n",
    "    \"\"\"\n",
    "    return num*num\n",
    "\n",
    "print(square(10))"
   ]
  },
  {
   "cell_type": "code",
   "execution_count": 7,
   "id": "31b0129c-bf63-493c-b6de-2cc56f1096c8",
   "metadata": {
    "panel-layout": {
     "height": 0,
     "visible": true,
     "width": 100
    }
   },
   "outputs": [
    {
     "name": "stdout",
     "output_type": "stream",
     "text": [
      "\n",
      "    Function is to square a number.\n",
      "    Print this docstring using __doc__\n",
      "    \n"
     ]
    }
   ],
   "source": [
    "print(square.__doc__)"
   ]
  },
  {
   "cell_type": "markdown",
   "id": "f798c0f6-eaca-42f5-b2ba-eac78663ef91",
   "metadata": {
    "panel-layout": {
     "height": 50.796875,
     "visible": true,
     "width": 100
    }
   },
   "source": [
    "## Python Indentaion"
   ]
  },
  {
   "cell_type": "code",
   "execution_count": 10,
   "id": "555370eb-b627-4de7-8519-0d12077e289f",
   "metadata": {
    "panel-layout": {
     "height": 0,
     "visible": true,
     "width": 100
    }
   },
   "outputs": [
    {
     "name": "stdout",
     "output_type": "stream",
     "text": [
      "1\n",
      "2\n",
      "3\n",
      "4\n",
      "New task\n"
     ]
    }
   ],
   "source": [
    "for i in range(1, 5):\n",
    "    print(i)\n",
    "print(\"New task\")"
   ]
  },
  {
   "cell_type": "code",
   "execution_count": 12,
   "id": "8c4c0710-30cf-4757-88bd-83402c377e3f",
   "metadata": {
    "panel-layout": {
     "height": 0,
     "visible": true,
     "width": 100
    }
   },
   "outputs": [
    {
     "name": "stdout",
     "output_type": "stream",
     "text": [
      "230\n"
     ]
    }
   ],
   "source": [
    "number = 10 + 20 + 30 + \\\n",
    "        40 + 60 + \\\n",
    "        70\n",
    "print(number)"
   ]
  },
  {
   "cell_type": "code",
   "execution_count": 14,
   "id": "6c209320-3ced-4b50-a5de-15aa5104a995",
   "metadata": {
    "panel-layout": {
     "height": 0,
     "visible": true,
     "width": 100
    }
   },
   "outputs": [
    {
     "name": "stdout",
     "output_type": "stream",
     "text": [
      "230\n"
     ]
    }
   ],
   "source": [
    "number = (10 + 20 + 30 +\n",
    "        40 + 60 +\n",
    "        70)\n",
    "print(number)"
   ]
  },
  {
   "cell_type": "markdown",
   "id": "6ac13f17-ef21-4aab-8c75-2542b843cf47",
   "metadata": {
    "panel-layout": {
     "height": 50.796875,
     "visible": true,
     "width": 100
    }
   },
   "source": [
    "## Data types"
   ]
  },
  {
   "cell_type": "code",
   "execution_count": 17,
   "id": "46d57fc7-7061-46c7-96e8-9468cfca0a8d",
   "metadata": {
    "panel-layout": {
     "height": 0,
     "visible": true,
     "width": 100
    }
   },
   "outputs": [
    {
     "name": "stdout",
     "output_type": "stream",
     "text": [
      "12 is type of <class 'int'>\n",
      "20.2 is type of <class 'float'>\n",
      "(10+20j) is type of <class 'complex'>\n"
     ]
    }
   ],
   "source": [
    "data1 = 12\n",
    "print(data1, \"is type of\", type(data1))\n",
    "\n",
    "data2 = 20.2\n",
    "print(data2, \"is type of\", type(data2))\n",
    "\n",
    "data3 = 10 + 20j\n",
    "print(data3, \"is type of\", type(data3))"
   ]
  },
  {
   "cell_type": "code",
   "execution_count": 19,
   "id": "d9be74d2-35a9-4cf9-b2e4-7b92900c0592",
   "metadata": {
    "panel-layout": {
     "height": 0,
     "visible": true,
     "width": 100
    }
   },
   "outputs": [
    {
     "name": "stdout",
     "output_type": "stream",
     "text": [
      "<class 'bool'>\n"
     ]
    }
   ],
   "source": [
    "boolean1 = True\n",
    "print(type(boolean1))"
   ]
  },
  {
   "cell_type": "code",
   "execution_count": 21,
   "id": "14cb24b4-8809-43a2-bae5-3d674d65b301",
   "metadata": {
    "panel-layout": {
     "height": 0,
     "visible": true,
     "width": 100
    }
   },
   "outputs": [
    {
     "name": "stdout",
     "output_type": "stream",
     "text": [
      "is (10+20j) type of complex? True\n"
     ]
    }
   ],
   "source": [
    "print('is', data3, 'type of complex?', isinstance(data3, complex))"
   ]
  },
  {
   "cell_type": "code",
   "execution_count": 23,
   "id": "fca47236-05dc-4d17-8b01-cacba3048287",
   "metadata": {
    "panel-layout": {
     "height": 0,
     "visible": true,
     "width": 100
    }
   },
   "outputs": [
    {
     "name": "stdout",
     "output_type": "stream",
     "text": [
      "My question:  hello what is your name?\n",
      "My question start from:  h\n"
     ]
    }
   ],
   "source": [
    "string1 = \"hello what is your name?\"\n",
    "print(\"My question: \", string1)\n",
    "print(\"My question start from: \", string1[0])"
   ]
  },
  {
   "cell_type": "code",
   "execution_count": 25,
   "id": "bb568d70-7aa8-429d-b57d-4e6cd7b1d6b3",
   "metadata": {
    "panel-layout": {
     "height": 0,
     "visible": true,
     "width": 100
    }
   },
   "outputs": [
    {
     "name": "stdout",
     "output_type": "stream",
     "text": [
      "12 is type of <class 'int'>\n",
      "20.2 is type of <class 'float'>\n",
      "hello how are you? is type of <class 'str'>\n",
      "(10+20j) is type of <class 'complex'>\n"
     ]
    }
   ],
   "source": [
    "data1 = 12\n",
    "print(data1, \"is type of\", type(data1))\n",
    "\n",
    "data2 = 20.2\n",
    "print(data2, \"is type of\", type(data2))\n",
    "\n",
    "data3 = \"hello how are you?\"\n",
    "print(data3, \"is type of\", type(data3))\n",
    "\n",
    "data4 = 10 + 20j\n",
    "print(data4, \"is type of\", type(data4))"
   ]
  },
  {
   "cell_type": "markdown",
   "id": "5440d731-d15e-4fc5-82b6-d7a709d5445f",
   "metadata": {
    "panel-layout": {
     "height": 50.796875,
     "visible": true,
     "width": 100
    }
   },
   "source": [
    "## List"
   ]
  },
  {
   "cell_type": "code",
   "execution_count": 28,
   "id": "d9f916c7-daed-42c1-adff-86734da67443",
   "metadata": {
    "panel-layout": {
     "height": 0,
     "visible": true,
     "width": 100
    }
   },
   "outputs": [
    {
     "name": "stdout",
     "output_type": "stream",
     "text": [
      "[1, 2, 3.6, 'Hello my name is']\n"
     ]
    }
   ],
   "source": [
    "myList = [1, 2, 3.6, \"Hello my name is\"]\n",
    "print(myList)"
   ]
  },
  {
   "cell_type": "code",
   "execution_count": 30,
   "id": "aa2f4929-839c-485a-92cb-ac6bc2765fab",
   "metadata": {
    "panel-layout": {
     "height": 0,
     "visible": true,
     "width": 100
    }
   },
   "outputs": [
    {
     "name": "stdout",
     "output_type": "stream",
     "text": [
      "3.6\n"
     ]
    }
   ],
   "source": [
    "print(myList[2])"
   ]
  },
  {
   "cell_type": "code",
   "execution_count": 32,
   "id": "509274c2-235b-42ac-ad01-4e3f895c7e90",
   "metadata": {
    "panel-layout": {
     "height": 0,
     "visible": true,
     "width": 100
    }
   },
   "outputs": [
    {
     "name": "stdout",
     "output_type": "stream",
     "text": [
      "[1, 2, 100, 'Hello my name is']\n"
     ]
    }
   ],
   "source": [
    "myList[2] = 100\n",
    "print(myList)"
   ]
  },
  {
   "cell_type": "code",
   "execution_count": 34,
   "id": "ae84115d-5143-437f-b27e-ff633abf4124",
   "metadata": {
    "panel-layout": {
     "height": 0,
     "visible": true,
     "width": 100
    }
   },
   "outputs": [
    {
     "name": "stdout",
     "output_type": "stream",
     "text": [
      "[1, 100, 'Hello my name is']\n"
     ]
    }
   ],
   "source": [
    "myList.remove(2)\n",
    "print(myList)"
   ]
  },
  {
   "cell_type": "code",
   "execution_count": 36,
   "id": "4eed89bb-f7a3-415e-b63b-5f1d846229d9",
   "metadata": {
    "panel-layout": {
     "height": 0,
     "visible": true,
     "width": 100
    }
   },
   "outputs": [
    {
     "name": "stdout",
     "output_type": "stream",
     "text": [
      "[1, 100]\n"
     ]
    }
   ],
   "source": [
    "myList.pop(2)\n",
    "print(myList)"
   ]
  },
  {
   "cell_type": "code",
   "execution_count": 38,
   "id": "e2dd7c82-bfd3-47b3-8371-e88115f74e0c",
   "metadata": {
    "panel-layout": {
     "height": 0,
     "visible": true,
     "width": 100
    }
   },
   "outputs": [
    {
     "name": "stdout",
     "output_type": "stream",
     "text": [
      "[1, 100, 52]\n"
     ]
    }
   ],
   "source": [
    "myList.append(52)\n",
    "print(myList)"
   ]
  },
  {
   "cell_type": "code",
   "execution_count": 40,
   "id": "57c8cdae-4fb4-410c-8cdf-955443a3d56c",
   "metadata": {
    "panel-layout": {
     "height": 0,
     "visible": true,
     "width": 100
    }
   },
   "outputs": [
    {
     "name": "stdout",
     "output_type": "stream",
     "text": [
      "This is my integer value:  40\n"
     ]
    }
   ],
   "source": [
    "myInt = 40\n",
    "print(\"This is my integer value: \", myInt)"
   ]
  },
  {
   "cell_type": "code",
   "execution_count": 42,
   "id": "4ba54a5e-2c62-4b64-803d-61d81bced3d3",
   "metadata": {
    "panel-layout": {
     "height": 0,
     "visible": true,
     "width": 100
    }
   },
   "outputs": [
    {
     "name": "stdout",
     "output_type": "stream",
     "text": [
      "This is my integer value: 40\n"
     ]
    }
   ],
   "source": [
    "myInt = 40\n",
    "print(\"This is my integer value: \"+ str(myInt))"
   ]
  },
  {
   "cell_type": "code",
   "execution_count": 44,
   "id": "fe4f53eb-817d-48b5-a02f-9f03554c59ec",
   "metadata": {
    "panel-layout": {
     "height": 0,
     "visible": true,
     "width": 100
    }
   },
   "outputs": [
    {
     "name": "stdout",
     "output_type": "stream",
     "text": [
      "50\n",
      "myInt1: 10 is 1/4th of myint2: 40\n"
     ]
    }
   ],
   "source": [
    "myInt1 = 10\n",
    "myInt2 = 40\n",
    "print(myInt1 + myInt2)\n",
    "print(\"myInt1: {} is 1/4th of myint2: {}\".format(myInt1, myInt2)) "
   ]
  },
  {
   "cell_type": "code",
   "execution_count": 46,
   "id": "360bbe1f-998d-4a96-99b5-ef0e065d15f4",
   "metadata": {
    "panel-layout": {
     "height": 0,
     "visible": true,
     "width": 100
    }
   },
   "outputs": [
    {
     "name": "stdout",
     "output_type": "stream",
     "text": [
      "60\n",
      "myInt2: 40 is double of myint1: 20\n"
     ]
    }
   ],
   "source": [
    "myInt1 = 20\n",
    "myInt2 = 40\n",
    "print(myInt1 + myInt2)\n",
    "print(\"myInt2: {1} is double of myint1: {0}\".format(myInt1, myInt2)) "
   ]
  },
  {
   "cell_type": "code",
   "execution_count": 48,
   "id": "a3c0c0fa-ad6a-44f5-b971-71c87cba3c4b",
   "metadata": {
    "panel-layout": {
     "height": 0,
     "visible": true,
     "width": 100
    }
   },
   "outputs": [
    {
     "name": "stdout",
     "output_type": "stream",
     "text": [
      "I am   good in: Hindi\n"
     ]
    }
   ],
   "source": [
    "firstSTr = \"I am  \"\n",
    "secondStr = \"Hindi\"\n",
    "print(\"{} good in: {}\".format(firstSTr,secondStr ))"
   ]
  },
  {
   "cell_type": "code",
   "execution_count": 50,
   "id": "93d1491f-6f3b-4464-8ba1-a709c2843a91",
   "metadata": {},
   "outputs": [
    {
     "data": {
      "text/plain": [
       "int"
      ]
     },
     "execution_count": 50,
     "metadata": {},
     "output_type": "execute_result"
    }
   ],
   "source": [
    "int(6.2)\n",
    "int"
   ]
  },
  {
   "cell_type": "markdown",
   "id": "bf8be8e2-5666-4363-8ccf-02dd4622e15e",
   "metadata": {},
   "source": [
    "## Operators"
   ]
  },
  {
   "cell_type": "code",
   "execution_count": 53,
   "id": "77af58ca-3437-48d6-a0ed-2f0759411ab4",
   "metadata": {},
   "outputs": [
    {
     "name": "stdout",
     "output_type": "stream",
     "text": [
      "23\n",
      "17\n",
      "60\n",
      "6.666666666666667\n",
      "6\n",
      "2\n",
      "8000\n"
     ]
    }
   ],
   "source": [
    "var1 = 20 \n",
    "var2 = 3\n",
    "print(var1 + var2)\n",
    "print(var1 - var2)\n",
    "print(var1 * var2)\n",
    "print(var1 / var2)\n",
    "print(var1 // var2)\n",
    "print(var1 % var2)\n",
    "print(var1 ** var2)"
   ]
  },
  {
   "cell_type": "markdown",
   "id": "acb5cb08-4c72-419a-bd53-828ab2fd76d2",
   "metadata": {},
   "source": [
    "## Logical Operators"
   ]
  },
  {
   "cell_type": "code",
   "execution_count": 56,
   "id": "7a1aacfd-941f-4f66-ab8b-b8ab5b7822c8",
   "metadata": {},
   "outputs": [
    {
     "name": "stdout",
     "output_type": "stream",
     "text": [
      "False\n",
      "True\n",
      "True\n"
     ]
    }
   ],
   "source": [
    "# 0 0 0 0\n",
    "# 0 1 0 1\n",
    "# 1 0 0 1\n",
    "# 1 1 1 1\n",
    "\n",
    "var1, var2 = True, False\n",
    "\n",
    "print(var1 and var2)\n",
    "print(var1 or var2)\n",
    "print(not var2)"
   ]
  },
  {
   "cell_type": "markdown",
   "id": "0c35414d-678a-4253-acb8-f407c420ec32",
   "metadata": {},
   "source": [
    "## Assignment Operators"
   ]
  },
  {
   "cell_type": "code",
   "execution_count": 59,
   "id": "f4bc8c5e-d9c2-4c75-97a7-0cb25f1fd9e5",
   "metadata": {},
   "outputs": [
    {
     "name": "stdout",
     "output_type": "stream",
     "text": [
      "25\n",
      "20\n",
      "40\n",
      "10.0\n"
     ]
    }
   ],
   "source": [
    "age = 20\n",
    "age += 5\n",
    "print(age)\n",
    "age -= 5\n",
    "print(age)\n",
    "age *= 2\n",
    "print(age)\n",
    "age /= 4\n",
    "print(age)"
   ]
  },
  {
   "cell_type": "markdown",
   "id": "65c9973f-2a5d-444a-9fb2-ce60fed60ed4",
   "metadata": {},
   "source": [
    " ## Control Flow"
   ]
  },
  {
   "cell_type": "code",
   "execution_count": 62,
   "id": "0da3d934-3e41-4324-b4ca-5263a8b60091",
   "metadata": {},
   "outputs": [
    {
     "name": "stdout",
     "output_type": "stream",
     "text": [
      "You have just entered in eligibility criteria\n"
     ]
    }
   ],
   "source": [
    "age = 18\n",
    "if age >= 20:\n",
    "    print(\"You are eligible\")\n",
    "elif age == 18:\n",
    "    print(\"You have just entered in eligibility criteria\")\n",
    "else:\n",
    "    print(\"You are not eligible\")"
   ]
  },
  {
   "cell_type": "code",
   "execution_count": 64,
   "id": "66855c53-02c3-4e5b-b7fa-1bd40ae2ddd2",
   "metadata": {},
   "outputs": [
    {
     "name": "stdout",
     "output_type": "stream",
     "text": [
      "Its out of our budget\n",
      "We can buy at the given rate which is 210\n"
     ]
    }
   ],
   "source": [
    "rate = 210\n",
    "if (rate>=100) and (rate<=200):\n",
    "    print(\"Its very cheap\")\n",
    "elif(rate==200):\n",
    "    print(\"Its in our budget\")\n",
    "elif(rate>=0) and (rate<=100):\n",
    "    print(\"Its quality is not good\")\n",
    "else:\n",
    "    print(\"Its out of our budget\")\n",
    "\n",
    "print(\"We can buy at the given rate which is {}\".format(rate))"
   ]
  },
  {
   "cell_type": "code",
   "execution_count": 66,
   "id": "8f098cd5-fb15-4e2a-9cf6-eef9a243c17b",
   "metadata": {},
   "outputs": [
    {
     "name": "stdout",
     "output_type": "stream",
     "text": [
      "1\n",
      "25\n",
      "3\n",
      "6\n",
      "14\n",
      "completed\n",
      "Eitherway printed\n"
     ]
    }
   ],
   "source": [
    "list1 = [1,25,3,6,14]\n",
    "index = 0\n",
    "while index < len(list1):\n",
    "    print(list1[index])\n",
    "    index += 1\n",
    "else:\n",
    "    print(\"completed\")\n",
    "\n",
    "print(\"Eitherway printed\")"
   ]
  },
  {
   "cell_type": "markdown",
   "id": "207028c0-3506-459d-b6d3-3b561ce01a0f",
   "metadata": {},
   "source": [
    "## Factorial Calculation"
   ]
  },
  {
   "cell_type": "code",
   "execution_count": 73,
   "id": "f4cb3d59-ed82-4432-ac10-03999597e6df",
   "metadata": {},
   "outputs": [
    {
     "name": "stdin",
     "output_type": "stream",
     "text": [
      "Enter a non-zero number:  25\n"
     ]
    },
    {
     "name": "stdout",
     "output_type": "stream",
     "text": [
      "Thank you, let me share a result.\n"
     ]
    }
   ],
   "source": [
    "userInput = int(input(\"Enter a non-zero number: \"))\n",
    "if number <=0:\n",
    "    print(\"Invalid number please re-netr\")\n",
    "    userInput = int(input(\"Enter a non-zero number: \"))\n",
    "else:\n",
    "    print(\"Thank you, let me share a result.\")"
   ]
  },
  {
   "cell_type": "code",
   "execution_count": 75,
   "id": "bf88a161-7581-4e15-90a4-928a7c4d3acf",
   "metadata": {},
   "outputs": [
    {
     "name": "stdout",
     "output_type": "stream",
     "text": [
      "[1, 2, 55, 'bill', 'gates']\n"
     ]
    }
   ],
   "source": [
    "myList1 = [1, 2, 55, \"bill\"]\n",
    "index = 0\n",
    "myList1.append(\"gates\")\n",
    "print(myList1)"
   ]
  },
  {
   "cell_type": "code",
   "execution_count": 77,
   "id": "23d9c961-b1e5-46c7-8fdc-f12d745f9260",
   "metadata": {},
   "outputs": [
    {
     "name": "stdout",
     "output_type": "stream",
     "text": [
      "[1, 'gates', 2, 55, 'bill']\n"
     ]
    }
   ],
   "source": [
    "myList1 = [1, 2, 55, \"bill\"]\n",
    "index = 0\n",
    "myList1.insert(1,\"gates\")\n",
    "print(myList1)"
   ]
  },
  {
   "cell_type": "code",
   "execution_count": 79,
   "id": "b4269a5f-5b20-4537-bd14-1a5a47c3d0eb",
   "metadata": {},
   "outputs": [
    {
     "name": "stdout",
     "output_type": "stream",
     "text": [
      "[1, 2, 55, 'bill']\n"
     ]
    }
   ],
   "source": [
    "myList1 = [1, 'gates', 2, 55, 'bill']\n",
    "index = 0\n",
    "myList1.remove(\"gates\")\n",
    "print(myList1)"
   ]
  },
  {
   "cell_type": "code",
   "execution_count": 11,
   "id": "66d4b57d-16d7-4ed4-8dc1-8bd06930b018",
   "metadata": {},
   "outputs": [
    {
     "name": "stdout",
     "output_type": "stream",
     "text": [
      "Found in list\n",
      "[12, 55.2, 32]\n",
      "[12, 55.2, 'good', 32]\n",
      "55.2\n",
      "[12, 'good', 32]\n",
      "Not found in list\n",
      "['john', 22, 'nick', 12, 25.3]\n"
     ]
    }
   ],
   "source": [
    "listofMixedDataTypes = [25.3, 12, \"nick\", 22, \"john\"]\n",
    "if 'nick' in listofMixedDataTypes:\n",
    "    print('Found in list')\n",
    "\n",
    "if 'nick' not in listofMixedDataTypes:\n",
    "    print('Not found in list')\n",
    "\n",
    "\n",
    "# Delete content from the list\n",
    "listofMix = [12, 55.2, \"good\", 32]\n",
    "del listofMix[2]\n",
    "print(listofMix)\n",
    "\n",
    "# Pop the data from list\n",
    "listofMix = [12, 55.2, \"good\", 32]\n",
    "print(listofMix)\n",
    "listofMixData = listofMix.pop(1)\n",
    "print(listofMixData)\n",
    "print(listofMix)\n",
    "\n",
    "# Reverse the list\n",
    "listofMixedDataTypes = [25.3, 12, \"nick\", 22, \"john\"]\n",
    "if 'Bill' in listofMixedDataTypes:\n",
    "    print('Found in list')\n",
    "if 'Bill' not in listofMixedDataTypes:\n",
    "    print('Not found in list')\n",
    "\n",
    "listofMixedDataTypes.reverse()\n",
    "print(listofMixedDataTypes)"
   ]
  },
  {
   "cell_type": "code",
   "execution_count": 17,
   "id": "e66fbfc1-f1d2-48c8-a61f-ed31c5012fff",
   "metadata": {},
   "outputs": [
    {
     "name": "stdout",
     "output_type": "stream",
     "text": [
      "[1, 'apple', 3, 'banana', 5, 'grapes', 8, 'guava', 9]\n"
     ]
    }
   ],
   "source": [
    "# merge two list with alternate positions\n",
    "a = [1,3,5,8,9]\n",
    "b = ['apple', 'banana', 'grapes', 'guava']\n",
    "\n",
    "def merge_alternating(list1, list2):\n",
    "    merged_list = []\n",
    "    min_len = min(len(list1), len(list2))\n",
    "\n",
    "    for i in range(min_len):\n",
    "        merged_list.append(list1[i])\n",
    "        merged_list.append(list2[i])\n",
    "\n",
    "    merged_list.extend(list1[min_len:])\n",
    "    merged_list.extend(list2[min_len:])\n",
    "    \n",
    "    return merged_list\n",
    "    \n",
    "merge = merge_alternating(a, b)\n",
    "print(merge)"
   ]
  },
  {
   "cell_type": "code",
   "execution_count": null,
   "id": "7a67faff-5c94-4a3a-ace3-3b4374640923",
   "metadata": {},
   "outputs": [],
   "source": []
  }
 ],
 "metadata": {
  "kernelspec": {
   "display_name": "Python 3 (ipykernel)",
   "language": "python",
   "name": "python3"
  },
  "language_info": {
   "codemirror_mode": {
    "name": "ipython",
    "version": 3
   },
   "file_extension": ".py",
   "mimetype": "text/x-python",
   "name": "python",
   "nbconvert_exporter": "python",
   "pygments_lexer": "ipython3",
   "version": "3.13.5"
  },
  "panel-cell-order": [
   "71ca6994-cac8-4c67-873d-2fd3ddb01d40",
   "5d881bd4-667d-4f26-9a91-092a219fb3c0",
   "11104e9d-f396-4137-9629-107c636f1cd2",
   "31b0129c-bf63-493c-b6de-2cc56f1096c8",
   "f798c0f6-eaca-42f5-b2ba-eac78663ef91",
   "555370eb-b627-4de7-8519-0d12077e289f",
   "8c4c0710-30cf-4757-88bd-83402c377e3f",
   "6c209320-3ced-4b50-a5de-15aa5104a995",
   "6ac13f17-ef21-4aab-8c75-2542b843cf47",
   "46d57fc7-7061-46c7-96e8-9468cfca0a8d",
   "d9be74d2-35a9-4cf9-b2e4-7b92900c0592",
   "14cb24b4-8809-43a2-bae5-3d674d65b301",
   "fca47236-05dc-4d17-8b01-cacba3048287",
   "bb568d70-7aa8-429d-b57d-4e6cd7b1d6b3",
   "5440d731-d15e-4fc5-82b6-d7a709d5445f",
   "d9f916c7-daed-42c1-adff-86734da67443",
   "aa2f4929-839c-485a-92cb-ac6bc2765fab",
   "509274c2-235b-42ac-ad01-4e3f895c7e90",
   "ae84115d-5143-437f-b27e-ff633abf4124",
   "4eed89bb-f7a3-415e-b63b-5f1d846229d9",
   "e2dd7c82-bfd3-47b3-8371-e88115f74e0c",
   "57c8cdae-4fb4-410c-8cdf-955443a3d56c",
   "4ba54a5e-2c62-4b64-803d-61d81bced3d3",
   "fe4f53eb-817d-48b5-a02f-9f03554c59ec",
   "360bbe1f-998d-4a96-99b5-ef0e065d15f4",
   "a3c0c0fa-ad6a-44f5-b971-71c87cba3c4b"
  ]
 },
 "nbformat": 4,
 "nbformat_minor": 5
}
